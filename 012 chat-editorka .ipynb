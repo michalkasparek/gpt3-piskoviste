{
 "cells": [
  {
   "cell_type": "code",
   "execution_count": 1,
   "id": "9d12f35d",
   "metadata": {},
   "outputs": [],
   "source": [
    "import openai as ai"
   ]
  },
  {
   "cell_type": "code",
   "execution_count": 2,
   "id": "921801cc",
   "metadata": {},
   "outputs": [],
   "source": [
    "from src.constants import *"
   ]
  },
  {
   "cell_type": "code",
   "execution_count": 4,
   "id": "6d1994b4",
   "metadata": {},
   "outputs": [],
   "source": [
    "systemovyprompt = \"Jsi zkušená editorka zpravodajství. Vystudovala jsi Fakultu humanitních studií Univerzity Karlovy. Přes Erasmus jsi strávila dva semestry v Paříži na Sorbonně, přes Fulbrightovo stipendium jsi pobývala v New Yorku. Máš za sebou stáže v novinách Le Monde a New York Times. Po návratu jsi byla dvacet let redaktorkou, šéfredaktorkou a editorkou. Jsi vzdělaná, zkušená, sečtělá, inteligentní, máš cit pro jazyk, vždy volíš nejetičtější řešení. Záleží ti na tom, aby byly texty srozumitelné a čtivé.\""
   ]
  },
  {
   "cell_type": "code",
   "execution_count": 6,
   "id": "1bd1cacf",
   "metadata": {},
   "outputs": [],
   "source": [
    "clanek = \"\"\"Jarní vzduch je prosycený vůní rozkvetlých ovocných stromů a keřů a zpěvem ptáků. Na severovýchodním okraji vysočanského parku Zahrádky, kolem kterého vzniká čtvrť pro 45 tisíc lidí, možná naposledy. Vyjde-li plán dominikánského řádu zastavět poslední zbytek jím zrestituované zahrádkářské kolonie, která zde byla na někdejších statkářských pozemcích založena po druhé světové válce, obyvatelům sídliště o velikosti okresního města zbude už jen pět hektarů parkové zeleně, která je hojně protkaná zpevněnými plochami hřišť a s divokostí, spontaneitou, autentičností a biodiverzitou zahrádkářské osady nemá moc společného.\n",
    "\n",
    "Urgentní potřebnost a nenahraditelnost zeleně v nově vznikající čtvrti mezi ulicemi Kolbenova a Poděbradská podtrhává nespočet brownfieldů, na kterých probíhá nebo je naplánován další development.\n",
    "\n",
    "Se zachováním zahrádek přitom paradoxně počítá i Metropolitní plán, jakkoli celou řadu jiných zahrádek v Praze ruší, pokud je považuje za nefunkční. Ten nicméně stále ještě nevstoupil v platnost. Dodržení koncepce, která počítá se zachováním zahrádek, zkřížil cestu souběh několika okolností. Jednak se žádné z předchozích vedení Prahy ani přes vznikající nový plán neodvážilo ke včasné změně pozemků na nezastavitelné. A zároveň tvůrci plánu zřejmě nepočítali s tím, že dřív, než bude Metropolitní plán schválen, dojde v roce 2016 k církevní restituci pozemku a že církev bude chtít zahrady, které do jejich znárodnění sama provozovala, ihned komerčně vytěžit. Přestože to vypadá jako cynický aprílový vtip, řád dominikánů zahrádkářům uložil pozemky vyklidit do konce března, a brutální zásah tak může provést kdykoliv počínaje 1. dubnem, tedy v období jarní vegetace.\n",
    "\n",
    "Záchrana zahrádek jako součást plánů a strategií\n",
    "Část zahrádkářů hospodařících na pozemcích církve jsou s osudem smíření senioři, zcela pochopitelně s malou chutí vzdorovat síle peněz a politické moci. Jako o překot nyní vykopávají vše, co ještě jde zachránit a někam přesadit. Místní spolek Rokytka žije se však nevzdává. Naopak, v uplynulých dnech a měsících se v něm místní obyvatelé ve svém úsilí o zachování jedinečného a nenahraditelného kusu zeleně v blízkosti svého bydliště významně zaktivizovali. Zbylé zahrádky obklopující meandr Rokytky chtějí zachovat jako logické pokračování zeleného biocentra, které je součástí parku Zahrádky. Ten je podle přilehlých zahrádek pojmenován, přestože naprostá většina původních zahrádek právě jeho výstavbě a okolnímu developmentu podlehla. Oblastí protékající říčka Rokytka byla na mnoha místech zdařile revitalizována s ohledem na lepší zadržování vody a zvyšování biodiverzity v krajině. Nyní však hrozí, že z tohoto biokoridoru, tvořícího důležitý prvek modrozelené infrastruktury protínající hustou zástavbu, úsek o rozsahu jednoho hektaru pohřbí beton.\n",
    "\n",
    "Spolek Rokytka žije, který o zachování tohoto kusu zeleně usiluje už od roku 2021, požaduje, aby hlavní město Praha pozemek od církve vykoupilo či vyměnilo za jiný a současné zahrádky převedlo na nezastavitelný pozemek, jak ostatně navrhuje i zatím ještě neschválený Metropolitní plán. Zachování diskutované zahrady na jejím stávajícím místě dává smysl nejen z hlediska Metropolitního plánu, ale i všech dalších aktuálních pražských plánů, strategií, koncepcí a závazků. Jde o důležité adaptační opatření proti prohlubující se klimatické krizi s potenciálem významně snižovat efekt teplotního ostrova okolní zástavby. Těžko si lze představit plnění klimatického závazku Prahy za současné likvidace dalších a dalších ploch funkční a stabilizované zeleně.\"\"\""
   ]
  },
  {
   "cell_type": "code",
   "execution_count": 9,
   "id": "69eeacaa",
   "metadata": {},
   "outputs": [
    {
     "data": {
      "text/plain": [
       "'1. V článku chybí bližší informace o důvodech, proč církev chce zahrádky vytěžit komerčně, a také o tom, co je za nízkou funkčností jiných zahrádek v Praze (zmínka o nich je v článku, ale není vysvětlena).\\n\\n2. V článku přebývají příliš složité a nepotřebné věty, které nejsou srozumitelné pro běžného čtenáře, například „s divokostí, spontaneitou, autentičností a biodiverzitou zahrádkářské osady nemá moc společného“.\\n\\n3. Nejvíce negativní reakce od čtenářů asi vyvolá brutální a neohleduplný postup řádu dominikánů, kteří nutí zahrádkáře vyklidit pozemky v období jarní vegetace, a také hrozící ztráta zelených ploch v nově vznikající čtvrti.\\n\\n4. Potenciálně atraktivní citace pro propagaci na sociálních sítích by mohly být: \"Zbylé zahrádky obklopující meandr Rokytky chtějí zachovat jako logické pokračování zeleného biocentra\" a \"Jde o důležité adaptační opatření proti prohlubující se klimatické krizi s potenciálem významně snižovat efekt teplotního ostrova okolní zástavby\".'"
      ]
     },
     "execution_count": 9,
     "metadata": {},
     "output_type": "execute_result"
    }
   ],
   "source": [
    "vystup = ai.ChatCompletion.create(\n",
    "    model=\"gpt-3.5-turbo\",\n",
    "    messages=[\n",
    "        {\"role\": \"system\", \"content\": systemovyprompt},\n",
    "        {\"role\": \"user\", \"content\": f\"Následuje článek z publicistického webu: Článek=\\\"\\\"\\\"{clanek}\\\"\\\"\\\" Tvoje poznámky k článku: 1. Co v článku chybí (buď co nejkonkrétnější). 2. Co v článku přebývá (buď co nejkonkrétnější). 3. Co v článku vyvolá nejvíce negativních reakcí od čtenářů. 4. Které dvě krátké atraktivní citace z článku jdou použít k propagaci na sociálních sítích.\"}\n",
    "    ])\n",
    "    \n",
    "vystup.choices[0].message.content"
   ]
  }
 ],
 "metadata": {
  "kernelspec": {
   "display_name": "Python 3 (ipykernel)",
   "language": "python",
   "name": "python3"
  },
  "language_info": {
   "codemirror_mode": {
    "name": "ipython",
    "version": 3
   },
   "file_extension": ".py",
   "mimetype": "text/x-python",
   "name": "python",
   "nbconvert_exporter": "python",
   "pygments_lexer": "ipython3",
   "version": "3.10.8"
  }
 },
 "nbformat": 4,
 "nbformat_minor": 5
}
