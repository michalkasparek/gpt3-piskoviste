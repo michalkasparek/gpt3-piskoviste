{
 "cells": [
  {
   "cell_type": "code",
   "execution_count": 6,
   "id": "e0fe41ed",
   "metadata": {},
   "outputs": [],
   "source": [
    "import openai as ai"
   ]
  },
  {
   "cell_type": "code",
   "execution_count": 1,
   "id": "7d2a9d80",
   "metadata": {},
   "outputs": [],
   "source": [
    "from src.constants import *"
   ]
  },
  {
   "cell_type": "code",
   "execution_count": 18,
   "id": "4e42262b",
   "metadata": {},
   "outputs": [],
   "source": [
    "def presad(obsah, zeme):\n",
    "    vystup = ai.ChatCompletion.create(\n",
    "    model=\"gpt-3.5-turbo\",\n",
    "    messages=[\n",
    "        {\"role\": \"system\", \"content\": \"Jsi vzdělaný filmový dramaturg, mimořádně vzdělaný v kinematografii a zároveň s obřím všeobecným rozhledem.\"},\n",
    "        {\"role\": \"user\", \"content\": f\"Následuje děj filmu zasazeného do reálií Československa nebo České republiky.\\n\\n\\Obsah=\\\"{obsah}\\n\\nTen samý děj, ale jeho místem je místo České republiky nebo Československa {zeme}. Podle toho jsou změněna jména postav, místní názvy a další reálie jako rodinné modely či lidové zvyky. Obsah je ale stále napsán v češtině.\"}\n",
    "    ])\n",
    "    \n",
    "    return [vystup.choices[0].message.content]"
   ]
  },
  {
   "cell_type": "code",
   "execution_count": 12,
   "id": "f56aada0",
   "metadata": {},
   "outputs": [
    {
     "data": {
      "text/plain": [
       "['V jedné provincii Říše Čching žil spokojeně s rodinou obchodník Liang. Pak ale vypukla válka a trvala deset let. Liang ovdověl a o obchod se staral se synem Weim. Panující císař velmi zchudl. Co nespolkla válka, ukradl chamtivý správce nebo proparádila hezká ale sobecká princezna Meiying. Její sestra Jing byla také pohledná, ale skromná a laskavá. Zámecký kuchař Siu si myslel na správce a ten jí poradil provdat se za zámožného obchodníka. Stárnoucí muž se nechal obalamutit a hamižnou Sio si vzal. Ta propustila okamžitě všechny pomocníky v obchodě a nedbala na Weimovy protesty. Udřeného obchodníka přinutila pak tančit na zábavě. Muž zkolaboval a zemřel. Snažila se zbavit i dědice obchodu - Weima. Správce pro ni získal na Weima zatykač pro falešná obvinění. Vládce pekel Lucifer XIV. měl už Sio hříchů dost a poslal pro ni čerta Vraníka. Sio se ubránila peřím, kterého se čerti bojí, a lstí místo sebe nechala odnést do pekla Weimova pradědečka.']"
      ]
     },
     "execution_count": 12,
     "metadata": {},
     "output_type": "execute_result"
    }
   ],
   "source": [
    "presad(\"V jednom knížectví žil spokojeně s rodinou mlynář Máchal. Pak ale vypukly války a trvaly deset let. Mlynář ovdověl a o mlýn se staral se synem Petrem. Panující kníže velmi zchudl. Co nespolkly války, ukradl chamtivý správce nebo proparádila hezká ale sobecká princezna Angelína. Její sestra Adéla byla také pohledná, ale skromná a laskavá. Zámecká kuchařka Dorota si myslela na správce a ten jí poradil provdat se za zámožného mlynáře. Stárnoucí muž se nechal obalamutit a hamižnou Dorotu si vzal. Ta propustila okamžitě všechny pomocníky ve mlýně a nedbala na Petrovy protesty. Udřeného mlynáře přinutila pak tančit na zábavě. Muž zkolaboval a zemřel. Snažila se zbavit i dědice mlýna - Petra. Správce pro ni získal na Petra zatykač pro falešná obvinění. Vládce pekel Lucifer XIV. měl už Dorotiných hříchů dost a poslal pro ni čerta Vraníka. Dorota se ubránila peřím, kterého se čerti bojí, a lstí místo sebe nechala odnést do pekla Petrovu babičku.\",\"Říše Čching (Mandžuská dynastie)\")"
   ]
  },
  {
   "cell_type": "code",
   "execution_count": 20,
   "id": "72f1abba",
   "metadata": {},
   "outputs": [
    {
     "data": {
      "text/plain": [
       "['\\\\Obsah=\"Three friends - conductor Michael Adams, sound engineer Pep Bednar and doctor Albert Horak - are getting ready for their 9th “men’s skiing trip”. However, their wives - Katherine, Dasha and Gabby - rebel and insist that the men take their children with them. And so the men set out with six children, the oldest being eight-year-old Bertie and the youngest being Pepin, who has just learned to walk. The men divide the tasks amongst themselves: Albert will take care of the children, Pepa will handle the kitchen, and Michael will attend to cleanliness. They are convinced that they can handle everything and do it better than their wives. However, the men miscalculate and find it hard to manage, barely standing on their feet by evening. Meanwhile, Katherine and Dasha indulge in a visit to the winery, a hunting ball, and fashion show. Gabby performs with her band at a hotel in the foothills of the mountains, where her husband secretly ski down to visit her at night. The mothers gradually become more worried about their children, and therefore decide to drive out and “inspect”. Their arrival is a disaster for the men. The kids are left to entertain themselves, but not necessarily safely. The mothers take the children home as soon as they arrive. Upon returning, they ignore their husbands. Albert is the worst off, having to take care of three children by himself. His attempt to get back at his wife with a fake child abduction goes awry. Instead, he falls into a trap set by his wife, Katherine.']"
      ]
     },
     "execution_count": 20,
     "metadata": {},
     "output_type": "execute_result"
    }
   ],
   "source": [
    "presad(\"Tři přátelé - dirigent Michal Adámek, zvukař Pepa Bednář a lékař Albert Horák - se chystají už po deváté na zimní „pánskou jízdu“.Tentokrát se však jejich manželky - Kateřina, Dáša a Gábina - vzbouří: manželé musí vzít sebou děti. A tak pánové odjíždějí se šesti dětmi, z nichž nejstarší je osmiletý Bertík a nejmladší je Pepin, který se nedávno naučil chodit. Otcové si ve vlaku rozdělí úkoly: Albert se bude starat o děti, Pepa o kuchyni a Michal o pořádek. Jsou přesvědčeni, že všechno zvládnout snadno a lépe než jejich ženy. Ale pánové se přepočítali, moc se jim nedaří a večer únavou sotva stojí na nohou. Manželky Kateřina a Dáša si zatím dopřávají návštěvu vinárny, mysliveckého bálu, módní přehlídky. Gábina se svou hudební skupinou vystupuje v podhorském beskydském hotelu, kam za ní v noci její manžel tajně sjíždí na lyžích. V matkách postupně sílí obavy o děti, a proto se rozhodnou odjet na „inspekci“. Pro muže je jejich příjezd katastrofou. Vyspávají a děti se mezitím samy baví, ale ne právě bezpečně. Matky děti ihned odvezou domů. Po návratu své muže ignorují. Nejhůře dopadl Albert, který se musí sám starat o tři děti. Nezdaří se mu ani pomsta s předstíraným únosem dítěte. Naopak sám padne do léčky, kterou mu nastrojila jeho žena Kateřina.\",\"Spojené státy Americké\")"
   ]
  },
  {
   "cell_type": "code",
   "execution_count": 22,
   "id": "b1d429a0",
   "metadata": {},
   "outputs": [
    {
     "data": {
      "text/plain": [
       "['\\\\Obsah=\"Tři přátelé - dirigent Juan Rodriguez, zvukař Pepe Garcia a lékař Alberto Hernandez - se chystají už po deváté na zimní „pánskou jízdu“.Tentokrát se však jejich manželky - Katerina, Davida a Gabriela - vzbouří: manželé musí vzít sebou děti. A tak pánové odjíždějí se šesti dětmi, z nichž nejstarší je osmiletý Berto a nejmladší je Pepe, který se nedávno naučil chodit. Otcové si ve vlaku rozdělí úkoly: Alberto se bude starat o děti, Pepe o kuchyni a Juan o pořádek. Jsou přesvědčeni, že všechno zvládnout snadno a lépe než jejich ženy. Ale pánové se přepočítali, moc se jim nedaří a večer únavou sotva stojí na nohou. Manželky Katerina a David se zatím dopřávají návštěvu vinárny, mysliveckého bálu, módní přehlídky. Gabriela se svou hudební skupinou vystupuje v podhorském mexickém hotelu, kam za ní v noci její manžel tajně sjíždí na lyžích. V matkách postupně sílí obavy o děti, a proto se rozhodnou odjet na „inspekci“. Pro muže je jejich příjezd katastrofou. Vyspávají a děti se mezitím samy baví, ale ne právě bezpečně. Matky děti ihned odvezou domů. Po návratu své muže ignorují. Nejhůře dopadl Alberto, který se musí sám starat o tři děti. Nezdaří se mu ani pomsta s předstíraným únosem dítěte. Naopak sám padne do léčky, kterou mu nastrojila jeho žena Katerina.']"
      ]
     },
     "execution_count": 22,
     "metadata": {},
     "output_type": "execute_result"
    }
   ],
   "source": [
    "presad(\"Tři přátelé - dirigent Michal Adámek, zvukař Pepa Bednář a lékař Albert Horák - se chystají už po deváté na zimní „pánskou jízdu“.Tentokrát se však jejich manželky - Kateřina, Dáša a Gábina - vzbouří: manželé musí vzít sebou děti. A tak pánové odjíždějí se šesti dětmi, z nichž nejstarší je osmiletý Bertík a nejmladší je Pepin, který se nedávno naučil chodit. Otcové si ve vlaku rozdělí úkoly: Albert se bude starat o děti, Pepa o kuchyni a Michal o pořádek. Jsou přesvědčeni, že všechno zvládnout snadno a lépe než jejich ženy. Ale pánové se přepočítali, moc se jim nedaří a večer únavou sotva stojí na nohou. Manželky Kateřina a Dáša si zatím dopřávají návštěvu vinárny, mysliveckého bálu, módní přehlídky. Gábina se svou hudební skupinou vystupuje v podhorském beskydském hotelu, kam za ní v noci její manžel tajně sjíždí na lyžích. V matkách postupně sílí obavy o děti, a proto se rozhodnou odjet na „inspekci“. Pro muže je jejich příjezd katastrofou. Vyspávají a děti se mezitím samy baví, ale ne právě bezpečně. Matky děti ihned odvezou domů. Po návratu své muže ignorují. Nejhůře dopadl Albert, který se musí sám starat o tři děti. Nezdaří se mu ani pomsta s předstíraným únosem dítěte. Naopak sám padne do léčky, kterou mu nastrojila jeho žena Kateřina.\",\"Mexiko\")"
   ]
  },
  {
   "cell_type": "code",
   "execution_count": 14,
   "id": "75a7da79",
   "metadata": {
    "scrolled": true
   },
   "outputs": [
    {
     "data": {
      "text/plain": [
       "['Vánoce 1967. Michalovi Šebkovi bude šestnáct a je nešťastně zamilovaný. V iglú u dvoupatrové kamenné chaty v grónské obci se chce oběsit, ale utrhne se s ním provaz. Tak ho objeví Jindřiška Krausová, která místo něho miluje hezouna Eliena. Mezitím se Michalův otec, major Šebek, rozloučil u chaty se svým přítelem, dánským důstojníkem Borisem. Jindřiščin tatínek, zavilý odbojář, bydlící s rodinou v sousedním iglú nad Šebkovými, pronáší z okna své oblíbené proroctví, že Dánům dává rok, maximálně dva roky, než je přepadne mnohamiliónová vlna uprchlíků ze zpřístupněného Grónska. – Otec Šebek, typický lampasák, sestavuje jídelníček, který pak vyvěsí na stěně v předsíni. Maminka Šebková však stejně vaří podle svého. – Elien žije v prominentním domově mládeže, protože jeho rodiče jsou služebně v Kanadě. Dostane od nich jako dárek černé igluská boty. Michal jen tiše závidí. Elien promítá na cirrusové mraky západní filmy, na něž se za cestou z kůzu dívá vesnice podél západního pobřeží. – Rendžer na Inuita shodí před Jindřiškou Michala z obnoveného sněžného skútru. – Štědrý den. Za sestrou paní Šebkové, učitelkou Evou, přijde do jejího iglú nápadník, kolega ze školy Saša Mašlaň. Evin syn Péťa je venku na protějším ledovci, a tak host z nezbytí použije igluský záchod, přičemž si připálí vlasy o karmu. – Otec Kraus nutí rodinu dodržovat vánoční zvyky. Zlobí se na Jindřišku kvůli falešnému hraní koled, a jako vždy mluví o své odbojářské minulosti a o nevyhnutelnému přibíjení tuleňů. Nemocná paní Krausová to mlčky snáší. – K Šebkům přijde na Štědrý večer otcova mama a bratr Václav. Oba bratři se rádi sázejí. A tak otec brzy předvádí v iglú, jak dlouho vydrží bez nadechnutí v krátkých kalhotách. – U Krausů zatím otec „odborně“ odlévá olovo a vyčte z něj, že Dánům vydrží rok, maximálně dva roky. Při večeři se rodina modlí a z rádia zní zpěv Eskymo a Iggy Popa.']"
      ]
     },
     "execution_count": 14,
     "metadata": {},
     "output_type": "execute_result"
    }
   ],
   "source": [
    "presad(\"Vánoce 1967. Michalovi Šebkovi bude šestnáct a je nešťastně zamilovaný. V altánku u dvoupatrové vilky v pražských Košířích se chce oběsit, ale utrhne se s ním provaz. Tak ho objeví Jindřiška Krausová, která místo něho miluje hezouna Eliena. Mezitím se Michalův otec, major Šebek, rozloučil u domu se svým přítelem, sovětským důstojníkem Borisem. Jindřiščin tatínek, zavilý antikomunista, bydlící s rodinou nad Šebkovými, pronáší z okna své oblíbené proroctví, že komunistům dává rok, maximálně dva roky. – Otec Šebek, typický lampasák, sestavuje jídelníček, který pak vyvěsí na nástěnce v předsíni. Maminka Šebková však stejně vaří podle svého. – Elien žije v prominentním domově mládeže, protože jeho rodiče jsou služebně v Americe. Dostane od nich jako dárek černé kovbojské boty. Michal jen tiše závidí. Elien promítá na prostěradlo západní filmy, na něž se za plotem dívá mládež z okolí. – Sok na pionýru shodí před Jindřiškou Michala z kola. – Štědrý den. Za sestrou paní Šebkové, učitelkou Evou, přijde do jejího podkrovního bytu nápadník, kolega ze školy Saša Mašlaň. Evin syn Péťa je na záchodě, a tak host z nezbytí použije umyvadlo, přičemž si připálí vlasy o karmu. – Otec Kraus nutí rodinu dodržovat vánoční zvyky. Zlobí se na Jindřišku kvůli falešnému hraní koled, a jako vždy mluví o své odbojářské minulosti a o koncentráku. Nemocná paní Krausová to mlčky snáší. – K Šebkům přijde na Štědrý večer otcova maminka a bratr Václav. Oba bratři se rádi sázejí. A tak otec brzy předvádí ve vaně, jak dlouho vydrží bez nadechnutí. – U Krausů zatím otec „odborně“ odlévá olovo a vyčte z něj, že komunisté vydrží rok, maximálně dva roky. Při večeři se rodina modlí, a z gramofonu zní Masarykova oblíbená píseň Ach synku, synku.\",\"Grónsko\")"
   ]
  },
  {
   "cell_type": "code",
   "execution_count": 16,
   "id": "1d4d4998",
   "metadata": {},
   "outputs": [
    {
     "data": {
      "text/plain": [
       "['Vánoce 1995. Alexovi Kristensenovi bude šestnáct a je nešťastně zamilovaný. Na vrcholku zasněženého kopce blízko městečka Qasigiannguit se chce oběsit, ale utrhne se s ním provaz. Tak ho objeví Nivi Johanssenová, která místo něho miluje hezouna Erika. Mezitím se Alexův otec, velitel stanice královské grónské policie, rozloučil u stanice s přítelkyní, Kanadskou důstojnicí Marie. Nivičin tatínek, zavilý odpůrce znečištění Grónska, bydlící s rodinou vedle Kristensenů, pronáší z iglů své oblíbené proroctví, že fosilnímu palivu dává rok, maximálně dva roky. – Otec Kristensen, typický lovec na soby, sestavuje jídelníček, který pak vyvěsí na nástěnce v iglu. Maminka Kristensenová však stejně vaří podle svého. – Erik žije v prominentní chatě, protože jeho rodiče jsou v obchodě na jihu Grónska. Dostane od nich jako dárek nové brusle. Alex jen tiše závidí. Erik promítá na stěnu zahrádky hvězdnou oblohu, na něž se za kopcem dívají obyvatelé okolí. – Alex se ztratí v blízkém lese a musí jej odnést do nemocnice. – Štědrý den. Za sestrou paní Kristensenové, učitelkou Anou, přijde do jejího iglu nápadník, kolega ze školy Andreas Olsen. Evan syn Lars je venku, a tak host z nezbytí použije pilek, přičemž si odře kůži. – Otec Johanssen nutí rodinu dodržovat vánoční zvyky. Zlobí se na Nivi kvůli falešnému hraní koled, a jako vždy mluví o své zkušenosti se ztracenými turisty v ledové tundře. Nemocná paní Johanssenová to mlčky snáší. – K Kristensenům přijde na Štědrý večer otcova maminka a bratr Kaspar. Oba bratři se rádi holí. A tak otec brzy předvádí ve vaně, jak se holení podařilo nejlépe. – U Johanssenů zatím otec „odborně“ pluje na kajaku a vyčte z něj, že fosilní paliva vydrží rok, maximálně dva roky. Při večeři se rodina modlí, a z rádia zní a Capella píseň Last Christmas.']"
      ]
     },
     "execution_count": 16,
     "metadata": {},
     "output_type": "execute_result"
    }
   ],
   "source": [
    "presad(\"Vánoce 1967. Michalovi Šebkovi bude šestnáct a je nešťastně zamilovaný. V altánku u dvoupatrové vilky v pražských Košířích se chce oběsit, ale utrhne se s ním provaz. Tak ho objeví Jindřiška Krausová, která místo něho miluje hezouna Eliena. Mezitím se Michalův otec, major Šebek, rozloučil u domu se svým přítelem, sovětským důstojníkem Borisem. Jindřiščin tatínek, zavilý antikomunista, bydlící s rodinou nad Šebkovými, pronáší z okna své oblíbené proroctví, že komunistům dává rok, maximálně dva roky. – Otec Šebek, typický lampasák, sestavuje jídelníček, který pak vyvěsí na nástěnce v předsíni. Maminka Šebková však stejně vaří podle svého. – Elien žije v prominentním domově mládeže, protože jeho rodiče jsou služebně v Americe. Dostane od nich jako dárek černé kovbojské boty. Michal jen tiše závidí. Elien promítá na prostěradlo západní filmy, na něž se za plotem dívá mládež z okolí. – Sok na pionýru shodí před Jindřiškou Michala z kola. – Štědrý den. Za sestrou paní Šebkové, učitelkou Evou, přijde do jejího podkrovního bytu nápadník, kolega ze školy Saša Mašlaň. Evin syn Péťa je na záchodě, a tak host z nezbytí použije umyvadlo, přičemž si připálí vlasy o karmu. – Otec Kraus nutí rodinu dodržovat vánoční zvyky. Zlobí se na Jindřišku kvůli falešnému hraní koled, a jako vždy mluví o své odbojářské minulosti a o koncentráku. Nemocná paní Krausová to mlčky snáší. – K Šebkům přijde na Štědrý večer otcova maminka a bratr Václav. Oba bratři se rádi sázejí. A tak otec brzy předvádí ve vaně, jak dlouho vydrží bez nadechnutí. – U Krausů zatím otec „odborně“ odlévá olovo a vyčte z něj, že komunisté vydrží rok, maximálně dva roky. Při večeři se rodina modlí, a z gramofonu zní Masarykova oblíbená píseň Ach synku, synku.\",\"Grónsko\")"
   ]
  },
  {
   "cell_type": "code",
   "execution_count": 19,
   "id": "e567e312",
   "metadata": {},
   "outputs": [
    {
     "data": {
      "text/plain": [
       "['Továrna vyrábějící zemědělské stroje bude pronikavě modernizována. Mistr Kroupa si proto musí zvýšit kvalifikaci studiem a maturitou, chce-li zůstat ve své funkci. Jeho podřízení ho k návratu do školy uprosí, neboť se bojí, aby na jeho místo nepovýšil nesnesitelný Hujer, který se už ke studiu přihlásil. Studenty večerní průmyslovky jsou dámy a páni středního věku. I tak jsou mezi nimi jako v každé škole snaživci, ulejváci i rošťáci. Stařičký učitel angličtiny Williams líčí básně studenta Davise, nadšenost však nepřechází ani na jeho spolužáky. Mistr Kroupa se snaží, ale matematika mu, na rozdíl od své dcery Lucy, vůbec nejde. Odmítá svádění excentrické spolužačky Evy Týfové. Psaníčko s pozváním ke schůzce na hřbitově způsobí Kroupovi problém.']"
      ]
     },
     "execution_count": 19,
     "metadata": {},
     "output_type": "execute_result"
    }
   ],
   "source": [
    "presad(\"Továrna vyrábějící zemědělské stroje bude pronikavě modernizována. Mistr Kroupa si proto musí zvýšit kvalifikaci studiem a maturitou, chce-li zůstat ve své funkci. Jeho podřízení ho k návratu do školy uprosí, neboť se bojí, aby na jeho místo nepovýšil nesnesitelný Hujer, který se už ke studiu přihlásil. Studenty večerní průmyslovky jsou dámy a páni středního věku. I tak jsou mezi nimi jako v každé škole snaživci, ulejváci i rošťáci. Stařičký češtinář Hrbolek nazývá rozpustilého Tučka neustále Marečkem a odmítá omluvit nepřítomnost Hliníka, který se odstěhoval do Humpolce. Mistr Kroupa se snaží, básničky se jakž takž nadře, ale matematika mu, na rozdíl od syna Jirky studujícího na stejné škole, vůbec nejde. Odmítá svádění excentrické spolužačky Evy Týfové. Psaníčko s pozváním ke schůzce na hřbitově způsobí Kroupovi problém.\",\"Velká Británie\")"
   ]
  },
  {
   "cell_type": "code",
   "execution_count": 21,
   "id": "354fdbe9",
   "metadata": {},
   "outputs": [
    {
     "data": {
      "text/plain": [
       "['\\\\Obsah=\"Továrna na výrobu zemědělských strojů bude modernizována a mistr Rodriguez musí zvýšit svou kvalifikaci a získat maturitu, pokud chce zůstat ve své pozici. Jeho podřízení ho prosí, aby se vrátil do školy, protože se bojí, že by na jeho místo mohl být povýšen nesnesitelný Cortez, který se již přihlásil ke studiu. Večerní průmyslová škola je plná studentů středního věku, mezi nimiž jsou snaživci, lenoši i rošťáci. Starý španělský profesor Eduardo neustále nazývá Tučka místním jménem Mariano a odmítá omluvit nepřítomnost Hliníka, který se odstěhoval do jiného města. Mistr Rodriguez se snaží, učí se básničky, ale matematiku zvládá jen velmi špatně, na rozdíl od svého syna Javiera, který studuje na stejné škole. Odmítá pozvání excentrické spolužačky Any na schůzku na hřbitově. Toto pozvání mu způsobí problémy.\"']"
      ]
     },
     "execution_count": 21,
     "metadata": {},
     "output_type": "execute_result"
    }
   ],
   "source": [
    "presad(\"Továrna vyrábějící zemědělské stroje bude pronikavě modernizována. Mistr Kroupa si proto musí zvýšit kvalifikaci studiem a maturitou, chce-li zůstat ve své funkci. Jeho podřízení ho k návratu do školy uprosí, neboť se bojí, aby na jeho místo nepovýšil nesnesitelný Hujer, který se už ke studiu přihlásil. Studenty večerní průmyslovky jsou dámy a páni středního věku. I tak jsou mezi nimi jako v každé škole snaživci, ulejváci i rošťáci. Stařičký češtinář Hrbolek nazývá rozpustilého Tučka neustále Marečkem a odmítá omluvit nepřítomnost Hliníka, který se odstěhoval do Humpolce. Mistr Kroupa se snaží, básničky se jakž takž nadře, ale matematika mu, na rozdíl od syna Jirky studujícího na stejné škole, vůbec nejde. Odmítá svádění excentrické spolužačky Evy Týfové. Psaníčko s pozváním ke schůzce na hřbitově způsobí Kroupovi problém.\",\"Mexiko\")"
   ]
  },
  {
   "cell_type": "code",
   "execution_count": 23,
   "id": "be5e7591",
   "metadata": {},
   "outputs": [
    {
     "data": {
      "text/plain": [
       "['Sedmnáctiletí bademáři a bademařky na pastvině. Po celodenním namáhání čekají večer na gerskou večeři. Jediná Davaa je umytá, nalíčená a má nové šaty s kloboukem, v ruce drží podnos s talíři a příborem. Snaží se i na pastvině udržet určitou společenskou úroveň. Bat-Erdene jí však nastaví nohu a ona si šaty poleje polévkou. Dorjsürengijin, který je do Davaa zamilovaný, se proto pustí do rvačky s Bat-Erdene. Konflikt vyřeší pastýřka Janchivsüren. Následující den jí předsedkyně kooperativy vyčte Bat-Erdene jeho individualismus a ztrátu zaměření na prospěch kolektivu. Za dobrou práci na pastvině dostane Dorjsürengijin od předsedy kooperativy koňskou přívěsnou buresu na cesty za svou „tetou“. Mladík však jezdí k milence na druhou stranu Mongolska až do chvíle, kdy tam náhodou dorazí její manžel, voják. Jeho kamarádi Tömör-Ochir a Gendensüren se marně snaží zjistit, kde Dorjsürengijin spí, protože jeho dolce v yurdě je každou noc prázdná. Když Davaa v noci vynese na terásu vyprané šaty, objeví tak Dorjsürengijinův provizorní úkryt včetně improvizované sprchy a vody v kbelíku.']"
      ]
     },
     "execution_count": 23,
     "metadata": {},
     "output_type": "execute_result"
    }
   ],
   "source": [
    "presad(\"Sedmnáctiletí studenti a studentky na chmelové brigádě. Po celodenní lopotě večer všichni v pracovním oblečení čekají na večeři. Jediná Hanka je umytá, načesaná a v nových šatech s kloboukem, v rukou podnos s talíři a příborem. Na rozdíl od ostatních si chce i na brigádě zachovat společenskou úroveň. Honza jí však nastaví nohu a ona si šaty polije polévkou. Filip, jenž je do Hanky zamilovaný, se proto s Honzou popere. Rvačku ukončí profesorka zvaná Jana Ámosa. Druhý den profesorka s předsedou JZD Filipovi vyčte jeho individualismus a stranění se kolektivu. Předseda Honzovi za dobrou práci půjčuje motorku na cesty k „tetě“. Mladík však jezdí na chatu za milenkou až do chvíle, kdy tam náhodou dorazí její muž, důstojník. Honzovi kamarádi Karel a Jirka se marně snaží zjistit, kde Filip spí, protože jeho slamník v tělocvičně je každou noc prázdný. Když Hanka v noci vynese na půdu uschnout vyprané šaty, objeví tak Filipův provizorně zařízený úkryt, včetně improvizané sprchy a vody v sudu.\",\"Mongolsko\")"
   ]
  }
 ],
 "metadata": {
  "kernelspec": {
   "display_name": "Python 3 (ipykernel)",
   "language": "python",
   "name": "python3"
  },
  "language_info": {
   "codemirror_mode": {
    "name": "ipython",
    "version": 3
   },
   "file_extension": ".py",
   "mimetype": "text/x-python",
   "name": "python",
   "nbconvert_exporter": "python",
   "pygments_lexer": "ipython3",
   "version": "3.10.8"
  }
 },
 "nbformat": 4,
 "nbformat_minor": 5
}
