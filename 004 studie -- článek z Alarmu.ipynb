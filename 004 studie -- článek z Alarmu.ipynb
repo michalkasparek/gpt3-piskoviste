{
 "cells": [
  {
   "cell_type": "code",
   "execution_count": 1,
   "id": "c4e1e8fd",
   "metadata": {},
   "outputs": [],
   "source": [
    "clanek = \"\"\"Praha se stala dějištěm nových klimatických protestů. Tentokrát se jedná o taktiku „pomalých pochodů“, během kterých jde průvod pomalou chůzí vozovkou a zpomaluje tak dopravu. Tato metoda je známá například z nedávných protestů ve Velké Británii, kde ji používá hnutí Just Stop Oil, které se proslavilo mimo jiné kontroverzním potřísněním uměleckých děl rajčatovou omáčkou. Aktuální protesty v Praze jsou součástí celoevropské vlny protestů hnutí, které je v zahraničí známé pod názvem Last Generation (Poslední generace).\n",
    "\n",
    "„Zajištění vyšší průjezdnosti ulicemi a zvýšení bezpečnosti pohybu v městském prostoru je možné pouze tak, že omezíme maximální povolenou rychlost, a zpomalíme tak automobilovou dopravu. Nejenže srážka s pomalu jedoucím vozidlem je významně méně riziková, ale dojde také k tomu, že se ostatní způsoby dopravy stanou výhodnějšími a lidé sami začnou preferovat cyklistiku, hromadnou dopravu či chůzi,“ vyjádřil se za Poslední generaci Arne Springorum.\n",
    "\n",
    "Aktivisté a aktivistky poukazují na to, že podle dostupných statistik z loňského roku bylo jen v listopadu usmrceno na silnicích osm chodců a pět cyklistů. Snížená rychlost jízdy by podle nich mohla tuto bilanci významně zlepšit. Jak uvádí Světová zdravotnická organizace ve svém Manuálu rychlosti řízení, při 50 km/h je nejméně osmdesátiprocentní pravděpodobnost, že chodec při střetu s vozidlem zemře. Při rychlosti 30 km/h se ale pravděpodobnost smrtelného zranění snižuje přibližně na 10 procent.\n",
    "\n",
    "Praha navíc schválila vlastní klimatický závazek, v němž se hlásí mimo jiné k podpoře pěší a hromadné dopravy a k omezení aut. Tento závazek však město nedodržuje. „Jsem opravdu naštvaný, že Praha není městem pro všechny, ale primárně městem pro auta. Někteří řidiči si pak myslí, že mohou svými auty blokovat ulice nevhodným parkováním nebo když stojí v zácpách. Jezdí příliš rychle a ohrožují životy lidí včetně malých dětí. Navíc znečišťují ulice a nutí nás dýchat prach a dehet. Parkují na chodnících a nenechávají místo matkám s kočárky nebo lidem na vozíku,“ vyjádřil svou frustraci jeden z účastníků pochodu.\n",
    "\n",
    "„Chápeme, že náš protest mohl řidičům způsobit určité nepříjemnosti, ale věříme, že je načase, aby Praha upřednostnila zdraví a blaho svých občanů před pohodlím aut,“ doplnil Springorum. „V pořádání podobných protestů a akcí budeme pokračovat, dokud město nepodnikne konkrétní kroky k řešení tohoto problému.\"\"\""
   ]
  },
  {
   "cell_type": "code",
   "execution_count": 2,
   "id": "4ba5e1d6",
   "metadata": {},
   "outputs": [],
   "source": [
    "from src.promptor import *\n",
    "from src.constants import *\n",
    "pd.set_option('display.max_colwidth', None)"
   ]
  },
  {
   "cell_type": "code",
   "execution_count": 3,
   "id": "d1066a67",
   "metadata": {},
   "outputs": [],
   "source": [
    "engine = \"text-davinci-003\"\n",
    "max_tokens = 3000\n",
    "frequency_penalty = 0\n",
    "presence_penalty = 0"
   ]
  },
  {
   "cell_type": "code",
   "execution_count": 6,
   "id": "7502b3ba",
   "metadata": {},
   "outputs": [
    {
     "data": {
      "text/plain": [
       "['Praha se stala dějištěm nových klimatických protestů. Tentokrát se jedná o taktiku „pomalých pochodů“, během kterých jde průvod pomalou chůzí vozovkou a zpomaluje tak dopravu. Tato metoda je známá například z nedávných protestů ve Velké Británii, kde ji používá hnutí Just Stop Oil, které se proslavilo mimo jiné kontroverzním potřísněním uměleckých děl rajčatovou omáčkou. Aktuální protesty v Praze jsou součástí celoevropské vlny protestů hnutí, které je v zahraničí známé pod názvem Last Generation (Poslední generace).\\n\\n„Zajištění vyšší průjezdnosti ulicemi a zvýšení bezpečnosti pohybu v městském prostoru je možné pouze tak, že omezíme maximální povolenou rychlost, a zpomalíme tak automobilovou dopravu. Nejenže srážka s pomalu jedoucím vozidlem je významně méně riziková, ale dojde také k tomu, že se ostatní způsoby dopravy stanou výhodnějšími a lidé sami začnou preferovat cyklistiku, hromadnou dopravu či chůzi,“ vyjádřil se za Poslední generaci Arne Springorum.\\n\\nAktivisté a aktivistky poukazují na to, že podle dostupných statistik z loňského roku bylo jen v listopadu usmrceno na silnicích osm chodců a pět cyklistů. Snížená rychlost jízdy by podle nich mohla tuto bilanci významně zlepšit. Jak uvádí Světová zdravotnická organizace ve svém Manuálu rychlosti řízení, při 50 km/h je nejméně osmdesátiprocentní pravděpodobnost, že chodec při střetu s vozidlem zemře. Při rychlosti 30 km/h se ale pravděpodobnost smrtelného zranění snižuje přibližně na 10 procent.\\n\\nPraha navíc schválila vlastní klimatický závazek, v němž se hlásí mimo jiné k podpoře pěší a hromadné dopravy a k omezení aut. Tento závazek však město nedodržuje. „Jsem opravdu naštvaný, že Praha není městem pro všechny, ale primárně městem pro auta. Někteří řidiči si pak myslí, že mohou svými auty blokovat ulice nevhodným parkováním nebo když stojí v zácpách. Jezdí příliš rychle a ohrožují životy lidí včetně malých dětí. Navíc znečišťují ulice a nutí nás dýchat prach a dehet. Parkují na chodnících a nenechávají místo matkám s kočárky nebo lidem na vozíku,“ vyjádřil svou frustraci jeden z účastníků pochodu.\\n\\n„Chápeme, že náš protest mohl řidičům způsobit určité nepříjemnosti, ale věříme, že je načase, aby Praha upřednostnila zdraví a blaho svých občanů před pohodlím aut,“ doplnil Springorum. „V pořádání podobných protestů a akcí budeme pokračovat, dokud město nepodnikne konkrétní kroky k řešení tohoto problému.',\n",
       " 'Následuje článek z publicistického webu.',\n",
       " 'Poznámky k článku od zkušené editorky s dlouhou praxí:\\n\\n1. Co v článku chybí.\\n\\n2. Co by článek vhodně doplnilo.\\n\\n3. Co v článku přebývá.',\n",
       " '\\n\\n1. Článek by mohl vhodně doplnit informace o tom, jakým způsobem město zamýšlí řešit problém znečištění a bezpečnosti v městském prostoru, jakož i konkrétní informace o tom, jak by měla vypadat ta „vyšší průjezdnost“.\\n\\n2. Článek by mohl vhodně doplnit informace o tom, jaké konkrétní opatření by město mohlo přijmout k řešení problému znečištění a bezpečnosti v městském prostoru, jakož i informace o tom, jak by měla ta „vyšší průjezdnost“ v praxi vypadat.\\n\\n3. Článek přebývá informacemi o protestech ve Velké Británii a o kontroverzním potřísnění uměleckých děl rajčatovou omáčkou.',\n",
       " None,\n",
       " 'text-davinci-003',\n",
       " 0.7,\n",
       " 0,\n",
       " 0,\n",
       " 1000,\n",
       " 'Článek',\n",
       " '2023-03-05']"
      ]
     },
     "execution_count": 6,
     "metadata": {},
     "output_type": "execute_result"
    }
   ],
   "source": [
    "pokus1 = promptor(\"Následuje článek z publicistického webu.\", \"Článek\", clanek, \"Poznámky k článku od zkušené editorky s dlouhou praxí:\\n\\n1. Co v článku chybí.\\n\\n2. Co by článek vhodně doplnilo.\\n\\n3. Co v článku přebývá.\", None, 0.7, frequency_penalty, presence_penalty, max_tokens, engine)\n",
    "pokus1"
   ]
  },
  {
   "cell_type": "code",
   "execution_count": 7,
   "id": "40fecbfe",
   "metadata": {},
   "outputs": [
    {
     "data": {
      "text/plain": [
       "['Praha se stala dějištěm nových klimatických protestů. Tentokrát se jedná o taktiku „pomalých pochodů“, během kterých jde průvod pomalou chůzí vozovkou a zpomaluje tak dopravu. Tato metoda je známá například z nedávných protestů ve Velké Británii, kde ji používá hnutí Just Stop Oil, které se proslavilo mimo jiné kontroverzním potřísněním uměleckých děl rajčatovou omáčkou. Aktuální protesty v Praze jsou součástí celoevropské vlny protestů hnutí, které je v zahraničí známé pod názvem Last Generation (Poslední generace).\\n\\n„Zajištění vyšší průjezdnosti ulicemi a zvýšení bezpečnosti pohybu v městském prostoru je možné pouze tak, že omezíme maximální povolenou rychlost, a zpomalíme tak automobilovou dopravu. Nejenže srážka s pomalu jedoucím vozidlem je významně méně riziková, ale dojde také k tomu, že se ostatní způsoby dopravy stanou výhodnějšími a lidé sami začnou preferovat cyklistiku, hromadnou dopravu či chůzi,“ vyjádřil se za Poslední generaci Arne Springorum.\\n\\nAktivisté a aktivistky poukazují na to, že podle dostupných statistik z loňského roku bylo jen v listopadu usmrceno na silnicích osm chodců a pět cyklistů. Snížená rychlost jízdy by podle nich mohla tuto bilanci významně zlepšit. Jak uvádí Světová zdravotnická organizace ve svém Manuálu rychlosti řízení, při 50 km/h je nejméně osmdesátiprocentní pravděpodobnost, že chodec při střetu s vozidlem zemře. Při rychlosti 30 km/h se ale pravděpodobnost smrtelného zranění snižuje přibližně na 10 procent.\\n\\nPraha navíc schválila vlastní klimatický závazek, v němž se hlásí mimo jiné k podpoře pěší a hromadné dopravy a k omezení aut. Tento závazek však město nedodržuje. „Jsem opravdu naštvaný, že Praha není městem pro všechny, ale primárně městem pro auta. Někteří řidiči si pak myslí, že mohou svými auty blokovat ulice nevhodným parkováním nebo když stojí v zácpách. Jezdí příliš rychle a ohrožují životy lidí včetně malých dětí. Navíc znečišťují ulice a nutí nás dýchat prach a dehet. Parkují na chodnících a nenechávají místo matkám s kočárky nebo lidem na vozíku,“ vyjádřil svou frustraci jeden z účastníků pochodu.\\n\\n„Chápeme, že náš protest mohl řidičům způsobit určité nepříjemnosti, ale věříme, že je načase, aby Praha upřednostnila zdraví a blaho svých občanů před pohodlím aut,“ doplnil Springorum. „V pořádání podobných protestů a akcí budeme pokračovat, dokud město nepodnikne konkrétní kroky k řešení tohoto problému.',\n",
       " 'Následuje článek z publicistického webu.',\n",
       " 'Poznámky k článku od zkušené editorky s dlouhou praxí:\\n\\n1. Čí vyjádření by článek vhodně doplnilo.\\n\\n2. Jakou ideologii článek explicitně nebo implicitně zastává.\\n\\n3. Co by článku pomohlo k vyšší obejktivitě.\\n\\n4. Co v článku vyvolá nejvíce negativních reakcí od čtenářů.',\n",
       " '\\n\\n1. Článku by vhodně doplnilo vyjádření příslušného odboru dopravy radnice, případně odboru životního prostředí.\\n\\n2. Článek explicitně či implicitně zastává ideologii ochrany klimatu a omezení automobilové dopravy.\\n\\n3. K vyšší objektivitě by článku pomohlo více prostoru pro vyjádření příslušného odboru radnice a také vyjádření opačného názoru, např. názoru řidičů, kteří jsou proti zpomalování dopravy.\\n\\n4. Nejvíce negativních reakcí od čtenářů by mohlo vyvolat přílišné omezování automobilové dopravy a to, že jsou městem primárně preferováni chodci a cyklisté.',\n",
       " None,\n",
       " 'text-davinci-003',\n",
       " 0.7,\n",
       " 0,\n",
       " 0,\n",
       " 1000,\n",
       " 'Článek',\n",
       " '2023-03-05']"
      ]
     },
     "execution_count": 7,
     "metadata": {},
     "output_type": "execute_result"
    }
   ],
   "source": [
    "pokus2 = promptor(\"Následuje článek z publicistického webu.\", \"Článek\", clanek, \"Poznámky k článku od zkušené editorky s dlouhou praxí:\\n\\n1. Čí vyjádření by článek vhodně doplnilo.\\n\\n2. Jakou ideologii článek explicitně nebo implicitně zastává.\\n\\n3. Co by článku pomohlo k vyšší obejktivitě.\\n\\n4. Co v článku vyvolá nejvíce negativních reakcí od čtenářů.\", None, 0.7, frequency_penalty, presence_penalty, max_tokens, engine)\n",
    "pokus2"
   ]
  },
  {
   "cell_type": "code",
   "execution_count": 8,
   "id": "0f1e30ce",
   "metadata": {},
   "outputs": [
    {
     "data": {
      "text/plain": [
       "['Praha se stala dějištěm nových klimatických protestů. Tentokrát se jedná o taktiku „pomalých pochodů“, během kterých jde průvod pomalou chůzí vozovkou a zpomaluje tak dopravu. Tato metoda je známá například z nedávných protestů ve Velké Británii, kde ji používá hnutí Just Stop Oil, které se proslavilo mimo jiné kontroverzním potřísněním uměleckých děl rajčatovou omáčkou. Aktuální protesty v Praze jsou součástí celoevropské vlny protestů hnutí, které je v zahraničí známé pod názvem Last Generation (Poslední generace).\\n\\n„Zajištění vyšší průjezdnosti ulicemi a zvýšení bezpečnosti pohybu v městském prostoru je možné pouze tak, že omezíme maximální povolenou rychlost, a zpomalíme tak automobilovou dopravu. Nejenže srážka s pomalu jedoucím vozidlem je významně méně riziková, ale dojde také k tomu, že se ostatní způsoby dopravy stanou výhodnějšími a lidé sami začnou preferovat cyklistiku, hromadnou dopravu či chůzi,“ vyjádřil se za Poslední generaci Arne Springorum.\\n\\nAktivisté a aktivistky poukazují na to, že podle dostupných statistik z loňského roku bylo jen v listopadu usmrceno na silnicích osm chodců a pět cyklistů. Snížená rychlost jízdy by podle nich mohla tuto bilanci významně zlepšit. Jak uvádí Světová zdravotnická organizace ve svém Manuálu rychlosti řízení, při 50 km/h je nejméně osmdesátiprocentní pravděpodobnost, že chodec při střetu s vozidlem zemře. Při rychlosti 30 km/h se ale pravděpodobnost smrtelného zranění snižuje přibližně na 10 procent.\\n\\nPraha navíc schválila vlastní klimatický závazek, v němž se hlásí mimo jiné k podpoře pěší a hromadné dopravy a k omezení aut. Tento závazek však město nedodržuje. „Jsem opravdu naštvaný, že Praha není městem pro všechny, ale primárně městem pro auta. Někteří řidiči si pak myslí, že mohou svými auty blokovat ulice nevhodným parkováním nebo když stojí v zácpách. Jezdí příliš rychle a ohrožují životy lidí včetně malých dětí. Navíc znečišťují ulice a nutí nás dýchat prach a dehet. Parkují na chodnících a nenechávají místo matkám s kočárky nebo lidem na vozíku,“ vyjádřil svou frustraci jeden z účastníků pochodu.\\n\\n„Chápeme, že náš protest mohl řidičům způsobit určité nepříjemnosti, ale věříme, že je načase, aby Praha upřednostnila zdraví a blaho svých občanů před pohodlím aut,“ doplnil Springorum. „V pořádání podobných protestů a akcí budeme pokračovat, dokud město nepodnikne konkrétní kroky k řešení tohoto problému.',\n",
       " 'Následuje článek z publicistického webu.',\n",
       " 'Titulek by měl přitáhnout pozornost na první pokus a perex by měl ve dvou až třech větách shrnout obsah článku. Zkušená editorka s mnohaletou praxí, velkým smyslem pro český jazyk a oceňovanou kreativitou by pro článek vytvořila tyto 3 varianty titulku a perexu.',\n",
       " '\\n\\nTitulek 1: „Pomalí pochody v Praze - protestující bojují za bezpečnost chodců a cyklistů“\\n\\nPerex 1: Představitelé hnutí Last Generation se ve středu sešli v Praze, aby pomocí „pomalých pochodů“ upozornili na bezpečnost chodců a cyklistů. Protestující vyjádřili svou frustraci ohledně toho, že město nedodržuje svůj vlastní klimatický závazek.\\n\\nTitulek 2: „Pomalé pochody v Praze - boj za bezpečnost chodců a cyklistů“\\n\\nPerex 2: Aktivisté a aktivistky v Praze protestují za zlepšení bezpečnosti chodců a cyklistů pomocí „pomalých pochodů“, které mají zpomalit autobusovou dopravu. Protestující vyjádřili svou nespokojenost s tím, že město nedodržuje svůj klimatický závazek.\\n\\nTitulek 3: „Pomalé pochody v Praze proti nebezpečné dopravě“\\n\\nPerex 3: Protestující hnutí Last Generation v Praze se pokouší zvýšit bezpečnost chodců a cyklistů pomocí „pomalých pochodů“, které mají zpomalit autobusovou dopravu. Aktivisté vyjádřili svou nespokojenost s tím, že město nedodržuje svůj klimatický závazek.',\n",
       " None,\n",
       " 'text-davinci-003',\n",
       " 0.7,\n",
       " 0,\n",
       " 0,\n",
       " 1000,\n",
       " 'Článek',\n",
       " '2023-03-05']"
      ]
     },
     "execution_count": 8,
     "metadata": {},
     "output_type": "execute_result"
    }
   ],
   "source": [
    "pokus3 = promptor(\"Následuje článek z publicistického webu.\", \"Článek\", clanek, \"Titulek by měl přitáhnout pozornost na první pokus a perex by měl ve dvou až třech větách shrnout obsah článku. Zkušená editorka s mnohaletou praxí, velkým smyslem pro český jazyk a oceňovanou kreativitou by pro článek vytvořila tyto 3 varianty titulku a perexu.\", None, 0.7, frequency_penalty, presence_penalty, max_tokens, engine)\n",
    "pokus3"
   ]
  },
  {
   "cell_type": "code",
   "execution_count": 9,
   "id": "e39727be",
   "metadata": {},
   "outputs": [
    {
     "data": {
      "text/plain": [
       "['Praha se stala dějištěm nových klimatických protestů. Tentokrát se jedná o taktiku „pomalých pochodů“, během kterých jde průvod pomalou chůzí vozovkou a zpomaluje tak dopravu. Tato metoda je známá například z nedávných protestů ve Velké Británii, kde ji používá hnutí Just Stop Oil, které se proslavilo mimo jiné kontroverzním potřísněním uměleckých děl rajčatovou omáčkou. Aktuální protesty v Praze jsou součástí celoevropské vlny protestů hnutí, které je v zahraničí známé pod názvem Last Generation (Poslední generace).\\n\\n„Zajištění vyšší průjezdnosti ulicemi a zvýšení bezpečnosti pohybu v městském prostoru je možné pouze tak, že omezíme maximální povolenou rychlost, a zpomalíme tak automobilovou dopravu. Nejenže srážka s pomalu jedoucím vozidlem je významně méně riziková, ale dojde také k tomu, že se ostatní způsoby dopravy stanou výhodnějšími a lidé sami začnou preferovat cyklistiku, hromadnou dopravu či chůzi,“ vyjádřil se za Poslední generaci Arne Springorum.\\n\\nAktivisté a aktivistky poukazují na to, že podle dostupných statistik z loňského roku bylo jen v listopadu usmrceno na silnicích osm chodců a pět cyklistů. Snížená rychlost jízdy by podle nich mohla tuto bilanci významně zlepšit. Jak uvádí Světová zdravotnická organizace ve svém Manuálu rychlosti řízení, při 50 km/h je nejméně osmdesátiprocentní pravděpodobnost, že chodec při střetu s vozidlem zemře. Při rychlosti 30 km/h se ale pravděpodobnost smrtelného zranění snižuje přibližně na 10 procent.\\n\\nPraha navíc schválila vlastní klimatický závazek, v němž se hlásí mimo jiné k podpoře pěší a hromadné dopravy a k omezení aut. Tento závazek však město nedodržuje. „Jsem opravdu naštvaný, že Praha není městem pro všechny, ale primárně městem pro auta. Někteří řidiči si pak myslí, že mohou svými auty blokovat ulice nevhodným parkováním nebo když stojí v zácpách. Jezdí příliš rychle a ohrožují životy lidí včetně malých dětí. Navíc znečišťují ulice a nutí nás dýchat prach a dehet. Parkují na chodnících a nenechávají místo matkám s kočárky nebo lidem na vozíku,“ vyjádřil svou frustraci jeden z účastníků pochodu.\\n\\n„Chápeme, že náš protest mohl řidičům způsobit určité nepříjemnosti, ale věříme, že je načase, aby Praha upřednostnila zdraví a blaho svých občanů před pohodlím aut,“ doplnil Springorum. „V pořádání podobných protestů a akcí budeme pokračovat, dokud město nepodnikne konkrétní kroky k řešení tohoto problému.',\n",
       " 'Následuje článek z publicistického webu.',\n",
       " 'Zkušená editorka s mnohaletou praxí, velkým smyslem pro jazyk a oceňovanou kreativitou by z články vybrala pro propagaci na sociálních sítích tyto dvě krátké atraktivní citace:',\n",
       " ' \\n\\n1. \"Chápeme, že náš protest mohl řidičům způsobit určité nepříjemnosti, ale věříme, že je načase, aby Praha upřednostnila zdraví a blaho svých občanů před pohodlím aut.\" \\n\\n2. \"Snížená rychlost jízdy by podle nich mohla tuto bilanci významně zlepšit. Jak uvádí Světová zdravotnická organizace ve svém Manuálu rychlosti řízení, při 50 km/h je nejméně osmdesátiprocentní pravděpodobnost, že chodec při střetu s vozidlem zemře.\"',\n",
       " None,\n",
       " 'text-davinci-003',\n",
       " 0.7,\n",
       " 0,\n",
       " 0,\n",
       " 1000,\n",
       " 'Článek',\n",
       " '2023-03-05']"
      ]
     },
     "execution_count": 9,
     "metadata": {},
     "output_type": "execute_result"
    }
   ],
   "source": [
    "pokus4 = promptor(\"Následuje článek z publicistického webu.\", \"Článek\", clanek, \"Zkušená editorka s mnohaletou praxí, velkým smyslem pro jazyk a oceňovanou kreativitou by z článku vybrala pro propagaci na sociálních sítích tyto dvě krátké atraktivní citace:\", None, 0.7, frequency_penalty, presence_penalty, max_tokens, engine)\n",
    "pokus4"
   ]
  },
  {
   "cell_type": "code",
   "execution_count": 10,
   "id": "6dd0c0af",
   "metadata": {},
   "outputs": [
    {
     "data": {
      "text/plain": [
       "['Praha se stala dějištěm nových klimatických protestů. Tentokrát se jedná o taktiku „pomalých pochodů“, během kterých jde průvod pomalou chůzí vozovkou a zpomaluje tak dopravu. Tato metoda je známá například z nedávných protestů ve Velké Británii, kde ji používá hnutí Just Stop Oil, které se proslavilo mimo jiné kontroverzním potřísněním uměleckých děl rajčatovou omáčkou. Aktuální protesty v Praze jsou součástí celoevropské vlny protestů hnutí, které je v zahraničí známé pod názvem Last Generation (Poslední generace).\\n\\n„Zajištění vyšší průjezdnosti ulicemi a zvýšení bezpečnosti pohybu v městském prostoru je možné pouze tak, že omezíme maximální povolenou rychlost, a zpomalíme tak automobilovou dopravu. Nejenže srážka s pomalu jedoucím vozidlem je významně méně riziková, ale dojde také k tomu, že se ostatní způsoby dopravy stanou výhodnějšími a lidé sami začnou preferovat cyklistiku, hromadnou dopravu či chůzi,“ vyjádřil se za Poslední generaci Arne Springorum.\\n\\nAktivisté a aktivistky poukazují na to, že podle dostupných statistik z loňského roku bylo jen v listopadu usmrceno na silnicích osm chodců a pět cyklistů. Snížená rychlost jízdy by podle nich mohla tuto bilanci významně zlepšit. Jak uvádí Světová zdravotnická organizace ve svém Manuálu rychlosti řízení, při 50 km/h je nejméně osmdesátiprocentní pravděpodobnost, že chodec při střetu s vozidlem zemře. Při rychlosti 30 km/h se ale pravděpodobnost smrtelného zranění snižuje přibližně na 10 procent.\\n\\nPraha navíc schválila vlastní klimatický závazek, v němž se hlásí mimo jiné k podpoře pěší a hromadné dopravy a k omezení aut. Tento závazek však město nedodržuje. „Jsem opravdu naštvaný, že Praha není městem pro všechny, ale primárně městem pro auta. Někteří řidiči si pak myslí, že mohou svými auty blokovat ulice nevhodným parkováním nebo když stojí v zácpách. Jezdí příliš rychle a ohrožují životy lidí včetně malých dětí. Navíc znečišťují ulice a nutí nás dýchat prach a dehet. Parkují na chodnících a nenechávají místo matkám s kočárky nebo lidem na vozíku,“ vyjádřil svou frustraci jeden z účastníků pochodu.\\n\\n„Chápeme, že náš protest mohl řidičům způsobit určité nepříjemnosti, ale věříme, že je načase, aby Praha upřednostnila zdraví a blaho svých občanů před pohodlím aut,“ doplnil Springorum. „V pořádání podobných protestů a akcí budeme pokračovat, dokud město nepodnikne konkrétní kroky k řešení tohoto problému.',\n",
       " 'Následuje článek z publicistického webu.',\n",
       " 'Tři nápady pro ilustrační obrázek či fotografii, včetně klíčových slov, přes které by je mělo být možné najít ve fotobance:',\n",
       " '\\n\\n1. Klíčová slova: protest, cyklistika, chůze. Ilustrace: skupina lidí s transparenty a bannery, vpředu cyklista a chodec.\\n\\n2. Klíčová slova: pomalý pochod, Praha, automobilová doprava. Ilustrace: průvod lidí pomalu kráčejících po ulici, s auty zastavenými ve zpomaleném provozu.\\n\\n3. Klíčová slova: Last Generation, chodec, rychlost. Ilustrace: chodec na silnici s dopravním značením omezujícím rychlost automobilové dopravy.',\n",
       " None,\n",
       " 'text-davinci-003',\n",
       " 0.7,\n",
       " 0,\n",
       " 0,\n",
       " 1000,\n",
       " 'Článek',\n",
       " '2023-03-05']"
      ]
     },
     "execution_count": 10,
     "metadata": {},
     "output_type": "execute_result"
    }
   ],
   "source": [
    "pokus5 = promptor(\"Následuje článek z publicistického webu.\", \"Článek\", clanek, \"Tři nápady pro ilustrační obrázek či fotografii, včetně klíčových slov, přes které by je mělo být možné najít ve fotobance:\", None, 0.7, frequency_penalty, presence_penalty, max_tokens, engine)\n",
    "pokus5"
   ]
  },
  {
   "cell_type": "code",
   "execution_count": 22,
   "id": "d269bde4",
   "metadata": {},
   "outputs": [],
   "source": [
    "pokus = pd.concat([frejm(pokus1), frejm(pokus2), frejm(pokus3), frejm(pokus4), frejm(pokus5)])"
   ]
  },
  {
   "cell_type": "code",
   "execution_count": 24,
   "id": "a5fcb133",
   "metadata": {},
   "outputs": [],
   "source": [
    "pokus.to_json(\"004 studie -- článek z Alarmu.json\", orient=\"records\")"
   ]
  },
  {
   "cell_type": "code",
   "execution_count": 26,
   "id": "1cac374b",
   "metadata": {},
   "outputs": [
    {
     "data": {
      "text/plain": [
       "0                                                                                                                                                                                                                                                                                                                                                                                                                                     \\n\\n1. Článek by mohl vhodně doplnit informace o tom, jakým způsobem město zamýšlí řešit problém znečištění a bezpečnosti v městském prostoru, jakož i konkrétní informace o tom, jak by měla vypadat ta „vyšší průjezdnost“.\\n\\n2. Článek by mohl vhodně doplnit informace o tom, jaké konkrétní opatření by město mohlo přijmout k řešení problému znečištění a bezpečnosti v městském prostoru, jakož i informace o tom, jak by měla ta „vyšší průjezdnost“ v praxi vypadat.\\n\\n3. Článek přebývá informacemi o protestech ve Velké Británii a o kontroverzním potřísnění uměleckých děl rajčatovou omáčkou.\n",
       "0                                                                                                                                                                                                                                                                                                                                                                                                                                                       \\n\\n1. Článku by vhodně doplnilo vyjádření příslušného odboru dopravy radnice, případně odboru životního prostředí.\\n\\n2. Článek explicitně či implicitně zastává ideologii ochrany klimatu a omezení automobilové dopravy.\\n\\n3. K vyšší objektivitě by článku pomohlo více prostoru pro vyjádření příslušného odboru radnice a také vyjádření opačného názoru, např. názoru řidičů, kteří jsou proti zpomalování dopravy.\\n\\n4. Nejvíce negativních reakcí od čtenářů by mohlo vyvolat přílišné omezování automobilové dopravy a to, že jsou městem primárně preferováni chodci a cyklisté.\n",
       "0    \\n\\nTitulek 1: „Pomalí pochody v Praze - protestující bojují za bezpečnost chodců a cyklistů“\\n\\nPerex 1: Představitelé hnutí Last Generation se ve středu sešli v Praze, aby pomocí „pomalých pochodů“ upozornili na bezpečnost chodců a cyklistů. Protestující vyjádřili svou frustraci ohledně toho, že město nedodržuje svůj vlastní klimatický závazek.\\n\\nTitulek 2: „Pomalé pochody v Praze - boj za bezpečnost chodců a cyklistů“\\n\\nPerex 2: Aktivisté a aktivistky v Praze protestují za zlepšení bezpečnosti chodců a cyklistů pomocí „pomalých pochodů“, které mají zpomalit autobusovou dopravu. Protestující vyjádřili svou nespokojenost s tím, že město nedodržuje svůj klimatický závazek.\\n\\nTitulek 3: „Pomalé pochody v Praze proti nebezpečné dopravě“\\n\\nPerex 3: Protestující hnutí Last Generation v Praze se pokouší zvýšit bezpečnost chodců a cyklistů pomocí „pomalých pochodů“, které mají zpomalit autobusovou dopravu. Aktivisté vyjádřili svou nespokojenost s tím, že město nedodržuje svůj klimatický závazek.\n",
       "0                                                                                                                                                                                                                                                                                                                                                                                                                                                                                                                                                                                                      \\n\\n1. \"Chápeme, že náš protest mohl řidičům způsobit určité nepříjemnosti, ale věříme, že je načase, aby Praha upřednostnila zdraví a blaho svých občanů před pohodlím aut.\" \\n\\n2. \"Snížená rychlost jízdy by podle nich mohla tuto bilanci významně zlepšit. Jak uvádí Světová zdravotnická organizace ve svém Manuálu rychlosti řízení, při 50 km/h je nejméně osmdesátiprocentní pravděpodobnost, že chodec při střetu s vozidlem zemře.\"\n",
       "0                                                                                                                                                                                                                                                                                                                                                                                                                                                                                                                                                                                                    \\n\\n1. Klíčová slova: protest, cyklistika, chůze. Ilustrace: skupina lidí s transparenty a bannery, vpředu cyklista a chodec.\\n\\n2. Klíčová slova: pomalý pochod, Praha, automobilová doprava. Ilustrace: průvod lidí pomalu kráčejících po ulici, s auty zastavenými ve zpomaleném provozu.\\n\\n3. Klíčová slova: Last Generation, chodec, rychlost. Ilustrace: chodec na silnici s dopravním značením omezujícím rychlost automobilové dopravy.\n",
       "Name: completion, dtype: object"
      ]
     },
     "execution_count": 26,
     "metadata": {},
     "output_type": "execute_result"
    }
   ],
   "source": [
    "pokus[\"completion\"]"
   ]
  },
  {
   "cell_type": "markdown",
   "id": "3c142413",
   "metadata": {},
   "source": [
    "## Syntéza pro sborník Neviditelné řemeslo"
   ]
  },
  {
   "cell_type": "code",
   "execution_count": 27,
   "id": "17cb68bd",
   "metadata": {},
   "outputs": [
    {
     "data": {
      "text/plain": [
       "'\\n\\n1. V článku chybí vyvážený pohled na situaci. Článek je zaměřen pouze na jednu stranu, tj. na stranu aktivistů, a nezahrnuje názor lidí, kteří jsou proti jejich aktivitám.\\n\\n2. Článek přebývá doplňkovými informacemi a podrobnostmi, které by mohly být vyjádřeny stručněji.\\n\\n3. Nejvíce negativních reakcí od čtenářů by mohly vyvolat informace o tom, že se aktivisté snaží omezit maximální povolenou rychlost, a že se snaží zvýšit bezpečnost pohybu v městském prostoru.\\n\\n4. K propagaci na sociálních sítích lze použít tyto dvě krátké citace: „Je zapotřebí omezit maximální povolenou rychlost, a zpomalit tak automobilovou dopravu“ a „Je načase, aby Praha upřednostnila zdraví a blaho svých občanů před pohodlím aut“.'"
      ]
     },
     "execution_count": 27,
     "metadata": {},
     "output_type": "execute_result"
    }
   ],
   "source": [
    "n_remeslo = promptor(\"Následuje článek z publicistického webu.\", \"Článek\", clanek, \"Poznámky k článku od zkušené editorky s dlouhou praxí a velkým citem pro jazyk: 1. Co v článku chybí. 2. Co v článku přebývá. 3. Co v článku vyvolá nejvíce negativních reakcí od čtenářů. 4. Které dvě krátké atraktivní citace z článku jdou použít k propagaci na sociálních sítích.\", None, 0.7, frequency_penalty, presence_penalty, max_tokens, engine)\n",
    "n_remeslo[3]"
   ]
  }
 ],
 "metadata": {
  "kernelspec": {
   "display_name": "Python 3 (ipykernel)",
   "language": "python",
   "name": "python3"
  },
  "language_info": {
   "codemirror_mode": {
    "name": "ipython",
    "version": 3
   },
   "file_extension": ".py",
   "mimetype": "text/x-python",
   "name": "python",
   "nbconvert_exporter": "python",
   "pygments_lexer": "ipython3",
   "version": "3.10.8"
  }
 },
 "nbformat": 4,
 "nbformat_minor": 5
}
