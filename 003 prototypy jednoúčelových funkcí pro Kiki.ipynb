{
 "cells": [
  {
   "cell_type": "code",
   "execution_count": 1,
   "id": "f13f32d8",
   "metadata": {},
   "outputs": [],
   "source": [
    "from src.promptor import *\n",
    "from src.constants import *"
   ]
  },
  {
   "cell_type": "code",
   "execution_count": 2,
   "id": "5ce9e7cb",
   "metadata": {},
   "outputs": [],
   "source": [
    "def docisteni(retezec):\n",
    "    return retezec.replace(\"\\n\",\"\").replace('\"','').replace(\"'\",'').strip()"
   ]
  },
  {
   "cell_type": "code",
   "execution_count": 3,
   "id": "bc86b78b",
   "metadata": {},
   "outputs": [],
   "source": [
    "def synonyma(retezec):\n",
    "    return docisteni(promptor(\"Následuje české slovo.\", \"Slovo\", retezec, \"Tři česká synonyma uvedeného slova, oddělená čárkami, jsou tato:\", \"\\n\\n\", 0.5, 0.7, 0.7, 250, \"text-davinci-003\")[3])"
   ]
  },
  {
   "cell_type": "code",
   "execution_count": 4,
   "id": "f99b100a",
   "metadata": {},
   "outputs": [
    {
     "data": {
      "text/plain": [
       "'helikoptéra, vrtulníček, rotor.'"
      ]
     },
     "execution_count": 4,
     "metadata": {},
     "output_type": "execute_result"
    }
   ],
   "source": [
    "synonyma(\"vrtulník\")"
   ]
  },
  {
   "cell_type": "code",
   "execution_count": 115,
   "id": "082f6273",
   "metadata": {},
   "outputs": [
    {
     "data": {
      "text/plain": [
       "'žebrák, bezdomovec, chudák'"
      ]
     },
     "execution_count": 115,
     "metadata": {},
     "output_type": "execute_result"
    }
   ],
   "source": [
    "synonyma(\"darmožrout\")"
   ]
  },
  {
   "cell_type": "code",
   "execution_count": 5,
   "id": "31afb5ac",
   "metadata": {},
   "outputs": [],
   "source": [
    "def synonymumplus(retezec):\n",
    "    return docisteni(promptor(\"Následuje česká věta.\", \"Věta\", retezec, \"První slovo uvedené věty má v češtině tato tři synonyma, tedy česká slova se stejným nebo co nejpodobnějším významem, oddělená čárkami:\", None, 0.2, 0.3, 0.3, 400, \"text-davinci-003\")[3])"
   ]
  },
  {
   "cell_type": "code",
   "execution_count": 154,
   "id": "ab7400e7",
   "metadata": {},
   "outputs": [
    {
     "data": {
      "text/plain": [
       "'hojnost, množství, spousta.'"
      ]
     },
     "execution_count": 154,
     "metadata": {},
     "output_type": "execute_result"
    }
   ],
   "source": [
    "synonymumplus(\"Přehršel možností je leckdy ke škodě.\")"
   ]
  },
  {
   "cell_type": "code",
   "execution_count": 110,
   "id": "ee3e33c8",
   "metadata": {},
   "outputs": [
    {
     "data": {
      "text/plain": [
       "'Milování, Náklonnost, City'"
      ]
     },
     "execution_count": 110,
     "metadata": {},
     "output_type": "execute_result"
    }
   ],
   "source": [
    "synonymumplus(\"Láska je mocná čarodějka.\")"
   ]
  },
  {
   "cell_type": "code",
   "execution_count": 185,
   "id": "95f8cfa0",
   "metadata": {},
   "outputs": [
    {
     "data": {
      "text/plain": [
       "'Básník, bard, poeta.'"
      ]
     },
     "execution_count": 185,
     "metadata": {},
     "output_type": "execute_result"
    }
   ],
   "source": [
    "synonymumplus(\"básník tepe verše\")"
   ]
  },
  {
   "cell_type": "code",
   "execution_count": 186,
   "id": "e3648372",
   "metadata": {},
   "outputs": [
    {
     "data": {
      "text/plain": [
       "'Fotbal, Fotbalový, Fotbalové.'"
      ]
     },
     "execution_count": 186,
     "metadata": {},
     "output_type": "execute_result"
    }
   ],
   "source": [
    "synonymumplus(\"fotbal je oblíbený sport\")"
   ]
  },
  {
   "cell_type": "code",
   "execution_count": 187,
   "id": "5948d767",
   "metadata": {},
   "outputs": [
    {
     "data": {
      "text/plain": [
       "'Fotbal, Fotbalový, Fotbalová.'"
      ]
     },
     "execution_count": 187,
     "metadata": {},
     "output_type": "execute_result"
    }
   ],
   "source": [
    "synonymumplus(\"kopaná je oblíbený sport\")"
   ]
  },
  {
   "cell_type": "code",
   "execution_count": 188,
   "id": "32010ff0",
   "metadata": {},
   "outputs": [
    {
     "data": {
      "text/plain": [
       "'Hlupák, pošetilec, blázen.'"
      ]
     },
     "execution_count": 188,
     "metadata": {},
     "output_type": "execute_result"
    }
   ],
   "source": [
    "synonymumplus(\"hlupák nikdy nebude chytrý\")"
   ]
  },
  {
   "cell_type": "code",
   "execution_count": 183,
   "id": "5dcd8ecc",
   "metadata": {},
   "outputs": [
    {
     "data": {
      "text/plain": [
       "'Finance, Finanční prostředky, Peníze.'"
      ]
     },
     "execution_count": 183,
     "metadata": {},
     "output_type": "execute_result"
    }
   ],
   "source": [
    "synonymumplus(\"peníze se vždycky hodí\")"
   ]
  },
  {
   "cell_type": "code",
   "execution_count": 190,
   "id": "1faef6ea",
   "metadata": {},
   "outputs": [
    {
     "data": {
      "text/plain": [
       "'Rusko, Rus, Ruská federace.'"
      ]
     },
     "execution_count": 190,
     "metadata": {},
     "output_type": "execute_result"
    }
   ],
   "source": [
    "synonymumplus(\"Rusko je velká země\")"
   ]
  },
  {
   "cell_type": "code",
   "execution_count": 192,
   "id": "dd390677",
   "metadata": {},
   "outputs": [
    {
     "data": {
      "text/plain": [
       "'auto, vůz, vozidlo.'"
      ]
     },
     "execution_count": 192,
     "metadata": {},
     "output_type": "execute_result"
    }
   ],
   "source": [
    "synonymumplus(\"auto jezdí po silnici\")"
   ]
  },
  {
   "cell_type": "code",
   "execution_count": 6,
   "id": "efd79827",
   "metadata": {},
   "outputs": [],
   "source": [
    "def opis(retezec):\n",
    "    return docisteni(promptor(\"Následuje úryvek českého textu.\", \"Úryvek\", retezec, \"Stejná věc se dá říct velice jinými slovy, například:\", None, 0.4, 0.8, 0.8, 400, \"text-davinci-003\")[3])"
   ]
  },
  {
   "cell_type": "code",
   "execution_count": 194,
   "id": "d65645c4",
   "metadata": {},
   "outputs": [
    {
     "data": {
      "text/plain": [
       "'Byl to hloupý a nezkušený člověk.'"
      ]
     },
     "execution_count": 194,
     "metadata": {},
     "output_type": "execute_result"
    }
   ],
   "source": [
    "opis(\"Byl to darmojed a hňup.\")"
   ]
  },
  {
   "cell_type": "code",
   "execution_count": 195,
   "id": "acbc837f",
   "metadata": {},
   "outputs": [
    {
     "data": {
      "text/plain": [
       "'Budova byla zničena během stavebních prací.'"
      ]
     },
     "execution_count": 195,
     "metadata": {},
     "output_type": "execute_result"
    }
   ],
   "source": [
    "opis(\"V rámci stavebních prací došlo k demolici budovy.\")"
   ]
  },
  {
   "cell_type": "code",
   "execution_count": 196,
   "id": "fbd16d55",
   "metadata": {},
   "outputs": [
    {
     "data": {
      "text/plain": [
       "'Mojí prací je psaní.'"
      ]
     },
     "execution_count": 196,
     "metadata": {},
     "output_type": "execute_result"
    }
   ],
   "source": [
    "opis(\"Moje profese obnáší tvorbu textů.\")"
   ]
  },
  {
   "cell_type": "code",
   "execution_count": 7,
   "id": "b1f526e9",
   "metadata": {},
   "outputs": [],
   "source": [
    "def opis_spisovatel(retezec):\n",
    "    return docisteni(promptor(\"Následuje úryvek českého textu.\", \"Úryvek\", retezec, \"Stejná věc se dá říct velice jinými slovy, například oceňovaný spisovatel s výjimečnou slovní zásobou by ji napsal takto:\", None, 0.3, 0.8, 0.8, 800, \"text-davinci-003\")[3])"
   ]
  },
  {
   "cell_type": "code",
   "execution_count": 201,
   "id": "6aa84f35",
   "metadata": {},
   "outputs": [
    {
     "data": {
      "text/plain": [
       "'Mou zaměstnaneckou pozicí je invence literárních děl.'"
      ]
     },
     "execution_count": 201,
     "metadata": {},
     "output_type": "execute_result"
    }
   ],
   "source": [
    "opis_spisovatel(\"Moje profese obnáší tvorbu textů.\")"
   ]
  },
  {
   "cell_type": "code",
   "execution_count": 202,
   "id": "b9765d2a",
   "metadata": {},
   "outputs": [
    {
     "data": {
      "text/plain": [
       "'Došlo k bourání objektu v rámci stavebních úprav.'"
      ]
     },
     "execution_count": 202,
     "metadata": {},
     "output_type": "execute_result"
    }
   ],
   "source": [
    "opis_spisovatel(\"V rámci stavebních prací došlo k demolici budovy.\")"
   ]
  },
  {
   "cell_type": "code",
   "execution_count": 203,
   "id": "5c92ae47",
   "metadata": {},
   "outputs": [],
   "source": [
    "ciba = \"Píšu o bezpečnosti, zejména té kybernetické, a taky o transparentnosti veřejné správy. Peru se za práva novinářů získávat a šířit informace i chránit svoje zdroje. Když je to nezbytné, dělám to i u soudů, včetně toho Ústavního. Na Univerzitě Karlově vedu kurzy datové žurnalistiky a kyberbezpečnostni pro novináře. Po práci ptáčkařím, tedy pozoruju a zapisuju, kde co létá.\""
   ]
  },
  {
   "cell_type": "code",
   "execution_count": 206,
   "id": "9ff1be6f",
   "metadata": {},
   "outputs": [
    {
     "data": {
      "text/plain": [
       "'Píšu o bezpečnosti, především té kybernetické, a také o průhlednosti veřejných záležitostí. Snažím se prosazovat novinářská práva na získání a šíření informací i ochranu jejich zdrojů. Pokud je to nevyhnutelné, vykonávám to i u soudcovských stolců, včetně Ústavního soudu. Na Karlově univerzitě vedu seminární kurzy datové žurnalistiky a kyberbezpečnosti pro novináře. Po skončené pracovní době se obloukem toulám po venkově; sleduji a zapisuji si, jak se ptactvo pohybuje sem a tam.'"
      ]
     },
     "execution_count": 206,
     "metadata": {},
     "output_type": "execute_result"
    }
   ],
   "source": [
    "opis_spisovatel(ciba)"
   ]
  },
  {
   "cell_type": "code",
   "execution_count": 7,
   "id": "e622ff52",
   "metadata": {},
   "outputs": [],
   "source": [
    "def spellcheck(retezec):\n",
    "    return promptor(\"Následuje úryvek českého textu.\", \"Úryvek\", retezec, \"Seznam gramatických chyb v úryvku:\", None, 0.2, 0, 0, 1000, \"text-davinci-003\")[3]"
   ]
  },
  {
   "cell_type": "code",
   "execution_count": 137,
   "id": "f0e14e3e",
   "metadata": {},
   "outputs": [
    {
     "data": {
      "text/plain": [
       "'\\n\\n1. Peru se za práva -> Peru se o práva\\n2. včetně toho Ústavního -> včetně Ústavního soudu\\n3. vedu kurzy -> vedu kurz\\n4. kyberbezpečnostni -> kyberbezpečnosti\\n5. po práci ptáčkařím -> po práci ptáčkařím'"
      ]
     },
     "execution_count": 137,
     "metadata": {},
     "output_type": "execute_result"
    }
   ],
   "source": [
    "spellcheck(ciba)"
   ]
  },
  {
   "cell_type": "code",
   "execution_count": 126,
   "id": "32471eb1",
   "metadata": {},
   "outputs": [
    {
     "data": {
      "text/plain": [
       "'\\nMáma mele x maso.'"
      ]
     },
     "execution_count": 126,
     "metadata": {},
     "output_type": "execute_result"
    }
   ],
   "source": [
    "spellcheck(\"Máma melex maso.\")"
   ]
  },
  {
   "cell_type": "code",
   "execution_count": 8,
   "id": "c337d3b3",
   "metadata": {},
   "outputs": [],
   "source": [
    "def smyslcheck(retezec):\n",
    "    return promptor(\"Následuje úryvek českého textu.\", \"Úryvek\", retezec, \"Co v úryvku nedává smysl, s vysvětlením:\", None, 0.4, 0.8, 0.8, 400, \"text-davinci-003\")[3]"
   ]
  },
  {
   "cell_type": "code",
   "execution_count": 125,
   "id": "7591cfe3",
   "metadata": {},
   "outputs": [
    {
     "data": {
      "text/plain": [
       "' Tento úryvek nedává smysl, protože neobsahuje dostatečné informace pro pochopení. Nezmiňuje se zde, jaké maso máma maže a ani k čemu ho maže.'"
      ]
     },
     "execution_count": 125,
     "metadata": {},
     "output_type": "execute_result"
    }
   ],
   "source": [
    "smyslcheck(\"Máma maže maso.\")"
   ]
  },
  {
   "cell_type": "code",
   "execution_count": 9,
   "id": "542fd42c",
   "metadata": {},
   "outputs": [],
   "source": [
    "def jirasek(retezec):\n",
    "    return promptor(\"Následuje úryvek současného českého textu.\", \"Úryvek\", retezec, \"V obrozenecké češtině 19. století, například v díle Jiráska, Palackého nebo Němcové, by bylo stejné sdělení napsáno takto:\", None, 0.2, 0, 0, 1000, \"text-davinci-003\")[3]"
   ]
  },
  {
   "cell_type": "code",
   "execution_count": 143,
   "id": "50c41c04",
   "metadata": {},
   "outputs": [
    {
     "data": {
      "text/plain": [
       "'\\n\\n\"Učitelé vysokých škol nařídili protestní akci kvůli dlouhodobému podfinancování. Nejzoufalejší situace je v oborech společenských věd.\"'"
      ]
     },
     "execution_count": 143,
     "metadata": {},
     "output_type": "execute_result"
    }
   ],
   "source": [
    "jirasek(\"Pedagogové vysokých škol plánují protestní akci kvůli dlouhodobému podfinancování. Nejhůře jsou na tom společenskovědní obory.\")"
   ]
  },
  {
   "cell_type": "code",
   "execution_count": 144,
   "id": "3fa233bd",
   "metadata": {},
   "outputs": [
    {
     "data": {
      "text/plain": [
       "'\\n\\n\"Na podlahu bytu ležel pes.\"'"
      ]
     },
     "execution_count": 144,
     "metadata": {},
     "output_type": "execute_result"
    }
   ],
   "source": [
    "jirasek(\"Na podlaze bytu ležel pes.\")"
   ]
  },
  {
   "cell_type": "code",
   "execution_count": 10,
   "id": "5b1b944b",
   "metadata": {},
   "outputs": [],
   "source": [
    "def slovenstina(retezec):\n",
    "    return docisteni(promptor(\"Následuje český text.\", \"Český text\", retezec, \"Překlad textu do slovenštiny:\", None, 0.2, 0, 0, 1000, \"text-davinci-003\")[3])"
   ]
  },
  {
   "cell_type": "code",
   "execution_count": 153,
   "id": "fcce3193",
   "metadata": {},
   "outputs": [
    {
     "data": {
      "text/plain": [
       "'Dobrý deň, vážení priatelia, na jabloni skáče veverička.'"
      ]
     },
     "execution_count": 153,
     "metadata": {},
     "output_type": "execute_result"
    }
   ],
   "source": [
    "slovenstina(\"Dobrý den, vážení přátelé, na jabloni skáče veverka.\")"
   ]
  },
  {
   "cell_type": "code",
   "execution_count": 152,
   "id": "7dea90d4",
   "metadata": {
    "scrolled": true
   },
   "outputs": [
    {
     "data": {
      "text/plain": [
       "'Na sklzisku je veľa detí.'"
      ]
     },
     "execution_count": 152,
     "metadata": {},
     "output_type": "execute_result"
    }
   ],
   "source": [
    "slovenstina(\"Na skluzavce je spousta dětí.\")"
   ]
  },
  {
   "cell_type": "code",
   "execution_count": 8,
   "id": "03b5320f",
   "metadata": {},
   "outputs": [
    {
     "data": {
      "text/plain": [
       "'Čím více práce a úsilí vložíme do projektu, tím lépe budou výsledky.'"
      ]
     },
     "execution_count": 8,
     "metadata": {},
     "output_type": "execute_result"
    }
   ],
   "source": [
    "opis(\"Při každém podobném podniku musíme zkoušet různá zadání a hledat cesty k co nejlepšímu výsledku. Pořád platí, že čím víc úsilí, tím lepší výsledky.\")"
   ]
  },
  {
   "cell_type": "code",
   "execution_count": 9,
   "id": "7986a1f7",
   "metadata": {},
   "outputs": [
    {
     "data": {
      "text/plain": [
       "'K dosažení nejlepšího výsledku je třeba investovat mnoho úsilí a experimentovat s různými možnostmi.'"
      ]
     },
     "execution_count": 9,
     "metadata": {},
     "output_type": "execute_result"
    }
   ],
   "source": [
    "opis_spisovatel(\"Při každém podobném podniku musíme zkoušet různá zadání a hledat cesty k co nejlepšímu výsledku. Pořád platí, že čím víc úsilí, tím lepší výsledky.\")"
   ]
  },
  {
   "cell_type": "code",
   "execution_count": 10,
   "id": "e469be35",
   "metadata": {},
   "outputs": [
    {
     "data": {
      "text/plain": [
       "'důsledek, následek, východisko.'"
      ]
     },
     "execution_count": 10,
     "metadata": {},
     "output_type": "execute_result"
    }
   ],
   "source": [
    "synonyma(\"výsledek\")"
   ]
  },
  {
   "cell_type": "code",
   "execution_count": 11,
   "id": "4fbdb9cd",
   "metadata": {},
   "outputs": [
    {
     "data": {
      "text/plain": [
       "'Čím více se snažíš, tím lepších výsledků dosáhneš.'"
      ]
     },
     "execution_count": 11,
     "metadata": {},
     "output_type": "execute_result"
    }
   ],
   "source": [
    "opis(\"Pořád platí, že čím větší úsilí, tím lepší výsledky.\")"
   ]
  },
  {
   "cell_type": "code",
   "execution_count": null,
   "id": "8df64cf8",
   "metadata": {},
   "outputs": [],
   "source": []
  }
 ],
 "metadata": {
  "kernelspec": {
   "display_name": "Python 3 (ipykernel)",
   "language": "python",
   "name": "python3"
  },
  "language_info": {
   "codemirror_mode": {
    "name": "ipython",
    "version": 3
   },
   "file_extension": ".py",
   "mimetype": "text/x-python",
   "name": "python",
   "nbconvert_exporter": "python",
   "pygments_lexer": "ipython3",
   "version": "3.10.8"
  }
 },
 "nbformat": 4,
 "nbformat_minor": 5
}
