{
 "cells": [
  {
   "cell_type": "code",
   "execution_count": 5,
   "id": "1f9794ea",
   "metadata": {},
   "outputs": [],
   "source": [
    "univ_clanek = \"\"\"- ChatGPT a jemu podobné nástroje podle některých znamenají zásadní změnu. Navíc jejich vývoj pokračuje velmi rychle, přesně tedy nedokážeme předvídat, jak náš svět ovlivní. Jak by se k jejich využívání měly postavit tradičně spíše konzervativní instituce jako univerzity?\n",
    "- Radíte tedy ChatGPT na univerzitách využívat?\n",
    "- Pořád to tedy může být problém v oblasti akademické etiky a integrity. \n",
    "- Tedy jen mnoho povyku pro nic? \n",
    "- Máte už zprávy představu, jak se s tím vyrovnávají univerzity v Evropě? \n",
    "- Nebyl byste ale opatrný doporučovat jej při práci se studenty? Podobné nástroje, a nejspíš i ChatGPT, budou dřív nebo později placenou službou.\n",
    "- Měl by na univerzitách existovat nějaký společný etický kodex, který by zakazoval používat umělou inteligenci v určitých aspektech práce výzkumníků?\n",
    "- Takže máte umělou inteligenci jako spoluautora? \n",
    "- Myslíte si, že nyní nastává doba, kdy mají kromě informatiků na scénu přicházet další výzkumné obory a přemýšlet o umělé inteligenci z různých úhlů pohledu?\"\"\""
   ]
  },
  {
   "cell_type": "code",
   "execution_count": 2,
   "id": "8f259793",
   "metadata": {},
   "outputs": [],
   "source": [
    "from src.promptor import *\n",
    "from src.constants import *"
   ]
  },
  {
   "cell_type": "code",
   "execution_count": 3,
   "id": "fbdd365c",
   "metadata": {},
   "outputs": [
    {
     "name": "stdout",
     "output_type": "stream",
     "text": [
      "{\n",
      "  \"choices\": [\n",
      "    {\n",
      "      \"finish_reason\": \"stop\",\n",
      "      \"index\": 0,\n",
      "      \"logprobs\": null,\n",
      "      \"text\": \"\\n- Jak\\u00e9 jsou nejv\\u011bt\\u0161\\u00ed v\\u00fdhody pou\\u017eit\\u00ed um\\u011bl\\u00e9 inteligence ze strany univerzit?\\n- M\\u016f\\u017eete popsat, jak\\u00e9 vyu\\u017eit\\u00ed mohou m\\u00edt ChatGPT a dal\\u0161\\u00ed AI n\\u00e1stroje pro akademickou oblast?\\n- Co je t\\u0159eba zv\\u00e1\\u017eit, kdy\\u017e se rozhodujeme o vyu\\u017eit\\u00ed um\\u011bl\\u00e9 inteligence na univerzit\\u00e1ch?\"\n",
      "    }\n",
      "  ],\n",
      "  \"created\": 1678221973,\n",
      "  \"id\": \"cmpl-6rYUHymfjpak7Qz6ViND7G6uTfp47\",\n",
      "  \"model\": \"text-davinci-003\",\n",
      "  \"object\": \"text_completion\",\n",
      "  \"usage\": {\n",
      "    \"completion_tokens\": 135,\n",
      "    \"prompt_tokens\": 912,\n",
      "    \"total_tokens\": 1047\n",
      "  }\n",
      "}\n"
     ]
    },
    {
     "data": {
      "text/plain": [
       "['- ChatGPT a jemu podobné nástroje podle některých znamenají zásadní změnu. Navíc jejich vývoj pokračuje velmi rychle, přesně tedy nedokážeme předvídat, jak náš svět ovlivní. Jak by se k jejich využívání měly postavit tradičně spíše konzervativní instituce jako univerzity?\\n- Radíte tedy ChatGPT na univerzitách využívat?\\n- Pořád to tedy může být problém v oblasti akademické etiky a integrity. \\n- Tedy jen mnoho povyku pro nic? \\n- Máte už zprávy představu, jak se s tím vyrovnávají univerzity v Evropě? \\n- Nebyl byste ale opatrný doporučovat jej při práci se studenty? Podobné nástroje, a nejspíš i ChatGPT, budou dřív nebo později placenou službou.\\n- Měl by na univerzitách existovat nějaký společný etický kodex, který by zakazoval používat umělou inteligenci v určitých aspektech práce výzkumníků?\\n- Takže máte umělou inteligenci jako spoluautora? \\nTo ne. Není spoluautor. Umělá inteligence nevytváří žádné nové poznatky. Není za nic odpovědná. Až pokud vám stroj dokáže dát jen správné odpovědi, pak to začne být zajímavé. Když začne klást otázky, když vymyslí něco originálního, ve chvíli, kdy dává dohromady fakta stovkou nových představitelných způsobů. Až pak se ptáte: Jaký je lidský přínos a co to vlastně znamená? \\n- Myslíte si, že nyní nastává doba, kdy mají kromě informatiků na scénu přicházet další výzkumné obory a přemýšlet o umělé inteligenci z různých úhlů pohledu?',\n",
       " 'Následují otázky položené v rozhovoru s odborníkem na využití umělé inteligence v akademickém prostředí. Rozhovor má vyjít na webu pro zaměstnance univerzit.',\n",
       " 'Jaké další dvě až tři otázky by je vhodně doplnily:',\n",
       " '\\n- Jaké jsou největší výhody použití umělé inteligence ze strany univerzit?\\n- Můžete popsat, jaké využití mohou mít ChatGPT a další AI nástroje pro akademickou oblast?\\n- Co je třeba zvážit, když se rozhodujeme o využití umělé inteligence na univerzitách?',\n",
       " None,\n",
       " 'text-davinci-003',\n",
       " 0.7,\n",
       " 0.5,\n",
       " 0.5,\n",
       " 600,\n",
       " 'Otázky',\n",
       " '2023-03-07']"
      ]
     },
     "execution_count": 3,
     "metadata": {},
     "output_type": "execute_result"
    }
   ],
   "source": [
    "univ1 = promptor(\"Následují otázky položené v rozhovoru s odborníkem na využití umělé inteligence v akademickém prostředí. Rozhovor má vyjít na webu pro zaměstnance univerzit.\", \"Otázky\", univ_clanek, \"Jaké další dvě až tři otázky by je vhodně doplnily:\", None, 0.7, 0.5, 0.5, 600, \"text-davinci-003\",p_o=True)\n",
    "univ1"
   ]
  },
  {
   "cell_type": "code",
   "execution_count": 6,
   "id": "efb51150",
   "metadata": {},
   "outputs": [
    {
     "name": "stdout",
     "output_type": "stream",
     "text": [
      "{\n",
      "  \"choices\": [\n",
      "    {\n",
      "      \"finish_reason\": \"stop\",\n",
      "      \"index\": 0,\n",
      "      \"logprobs\": null,\n",
      "      \"text\": \"\\n\\n- Jak by se m\\u011bla univerzita postavit k vyu\\u017e\\u00edv\\u00e1n\\u00ed um\\u011bl\\u00e9 inteligence ve vzd\\u011bl\\u00e1v\\u00e1n\\u00ed student\\u016f?\\n- Co si mysl\\u00edte o pou\\u017e\\u00edv\\u00e1n\\u00ed um\\u011bl\\u00e9 inteligence pro hodnocen\\u00ed prac\\u00ed student\\u016f?\\n- Jak\\u00fd je nej\\u010dast\\u011bj\\u0161\\u00ed argument proti pou\\u017eit\\u00ed um\\u011bl\\u00e9 inteligence na univerzit\\u00e1ch a jak se d\\u00e1 tento argument odstranit?\"\n",
      "    }\n",
      "  ],\n",
      "  \"created\": 1678222058,\n",
      "  \"id\": \"cmpl-6rYVeDuuDBEc5NGqWzKblVgINjAR5\",\n",
      "  \"model\": \"text-davinci-003\",\n",
      "  \"object\": \"text_completion\",\n",
      "  \"usage\": {\n",
      "    \"completion_tokens\": 138,\n",
      "    \"prompt_tokens\": 736,\n",
      "    \"total_tokens\": 874\n",
      "  }\n",
      "}\n"
     ]
    },
    {
     "data": {
      "text/plain": [
       "['- ChatGPT a jemu podobné nástroje podle některých znamenají zásadní změnu. Navíc jejich vývoj pokračuje velmi rychle, přesně tedy nedokážeme předvídat, jak náš svět ovlivní. Jak by se k jejich využívání měly postavit tradičně spíše konzervativní instituce jako univerzity?\\n- Radíte tedy ChatGPT na univerzitách využívat?\\n- Pořád to tedy může být problém v oblasti akademické etiky a integrity. \\n- Tedy jen mnoho povyku pro nic? \\n- Máte už zprávy představu, jak se s tím vyrovnávají univerzity v Evropě? \\n- Nebyl byste ale opatrný doporučovat jej při práci se studenty? Podobné nástroje, a nejspíš i ChatGPT, budou dřív nebo později placenou službou.\\n- Měl by na univerzitách existovat nějaký společný etický kodex, který by zakazoval používat umělou inteligenci v určitých aspektech práce výzkumníků?\\n- Takže máte umělou inteligenci jako spoluautora? \\n- Myslíte si, že nyní nastává doba, kdy mají kromě informatiků na scénu přicházet další výzkumné obory a přemýšlet o umělé inteligenci z různých úhlů pohledu?',\n",
       " 'Následují otázky položené v rozhovoru s odborníkem na využití umělé inteligence v akademickém prostředí. Rozhovor má vyjít na webu pro zaměstnance univerzit.',\n",
       " 'Jaké další dvě až tři otázky by je vhodně doplnily, aby měl rozhovor pro čtenáře vyšší praktickou hodnotu a zároveň byl dostatečně polemický:',\n",
       " '\\n\\n- Jak by se měla univerzita postavit k využívání umělé inteligence ve vzdělávání studentů?\\n- Co si myslíte o používání umělé inteligence pro hodnocení prací studentů?\\n- Jaký je nejčastější argument proti použití umělé inteligence na univerzitách a jak se dá tento argument odstranit?',\n",
       " None,\n",
       " 'text-davinci-003',\n",
       " 0.7,\n",
       " 0.5,\n",
       " 0.5,\n",
       " 600,\n",
       " 'Otázky',\n",
       " '2023-03-07']"
      ]
     },
     "execution_count": 6,
     "metadata": {},
     "output_type": "execute_result"
    }
   ],
   "source": [
    "univ2 = promptor(\"Následují otázky položené v rozhovoru s odborníkem na využití umělé inteligence v akademickém prostředí. Rozhovor má vyjít na webu pro zaměstnance univerzit.\", \"Otázky\", univ_clanek, \"Jaké další dvě až tři otázky by je vhodně doplnily, aby měl rozhovor pro čtenáře vyšší praktickou hodnotu a zároveň byl dostatečně polemický:\", None, 0.7, 0.5, 0.5, 600, \"text-davinci-003\",p_o=True)\n",
    "univ2"
   ]
  }
 ],
 "metadata": {
  "kernelspec": {
   "display_name": "Python 3 (ipykernel)",
   "language": "python",
   "name": "python3"
  },
  "language_info": {
   "codemirror_mode": {
    "name": "ipython",
    "version": 3
   },
   "file_extension": ".py",
   "mimetype": "text/x-python",
   "name": "python",
   "nbconvert_exporter": "python",
   "pygments_lexer": "ipython3",
   "version": "3.10.8"
  }
 },
 "nbformat": 4,
 "nbformat_minor": 5
}
